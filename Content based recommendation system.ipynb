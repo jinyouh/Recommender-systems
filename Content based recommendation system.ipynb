{
 "cells": [
  {
   "cell_type": "code",
   "execution_count": 1,
   "metadata": {},
   "outputs": [],
   "source": [
    "import pandas as pd\n",
    "import numpy as np"
   ]
  },
  {
   "cell_type": "markdown",
   "metadata": {},
   "source": [
    "## Data analysis"
   ]
  },
  {
   "cell_type": "code",
   "execution_count": 2,
   "metadata": {},
   "outputs": [
    {
     "data": {
      "text/html": [
       "<div>\n",
       "<style scoped>\n",
       "    .dataframe tbody tr th:only-of-type {\n",
       "        vertical-align: middle;\n",
       "    }\n",
       "\n",
       "    .dataframe tbody tr th {\n",
       "        vertical-align: top;\n",
       "    }\n",
       "\n",
       "    .dataframe thead th {\n",
       "        text-align: right;\n",
       "    }\n",
       "</style>\n",
       "<table border=\"1\" class=\"dataframe\">\n",
       "  <thead>\n",
       "    <tr style=\"text-align: right;\">\n",
       "      <th></th>\n",
       "      <th>article_id</th>\n",
       "      <th>product_code</th>\n",
       "      <th>prod_name</th>\n",
       "      <th>product_type_no</th>\n",
       "      <th>product_type_name</th>\n",
       "      <th>product_group_name</th>\n",
       "      <th>graphical_appearance_no</th>\n",
       "      <th>graphical_appearance_name</th>\n",
       "      <th>colour_group_code</th>\n",
       "      <th>colour_group_name</th>\n",
       "      <th>...</th>\n",
       "      <th>department_name</th>\n",
       "      <th>index_code</th>\n",
       "      <th>index_name</th>\n",
       "      <th>index_group_no</th>\n",
       "      <th>index_group_name</th>\n",
       "      <th>section_no</th>\n",
       "      <th>section_name</th>\n",
       "      <th>garment_group_no</th>\n",
       "      <th>garment_group_name</th>\n",
       "      <th>detail_desc</th>\n",
       "    </tr>\n",
       "  </thead>\n",
       "  <tbody>\n",
       "    <tr>\n",
       "      <th>67801</th>\n",
       "      <td>752280003</td>\n",
       "      <td>752280</td>\n",
       "      <td>CARL henley ss</td>\n",
       "      <td>255</td>\n",
       "      <td>T-shirt</td>\n",
       "      <td>Garment Upper body</td>\n",
       "      <td>1010017</td>\n",
       "      <td>Stripe</td>\n",
       "      <td>73</td>\n",
       "      <td>Dark Blue</td>\n",
       "      <td>...</td>\n",
       "      <td>Kids Boy Jersey Fancy</td>\n",
       "      <td>H</td>\n",
       "      <td>Children Sizes 92-140</td>\n",
       "      <td>4</td>\n",
       "      <td>Baby/Children</td>\n",
       "      <td>46</td>\n",
       "      <td>Kids Boy</td>\n",
       "      <td>1005</td>\n",
       "      <td>Jersey Fancy</td>\n",
       "      <td>Henley shirt in cotton jersey with a button pl...</td>\n",
       "    </tr>\n",
       "    <tr>\n",
       "      <th>13608</th>\n",
       "      <td>559018008</td>\n",
       "      <td>559018</td>\n",
       "      <td>Bella DEAL sweater</td>\n",
       "      <td>254</td>\n",
       "      <td>Top</td>\n",
       "      <td>Garment Upper body</td>\n",
       "      <td>1010008</td>\n",
       "      <td>Front print</td>\n",
       "      <td>7</td>\n",
       "      <td>Grey</td>\n",
       "      <td>...</td>\n",
       "      <td>Young Girl Jersey Fancy</td>\n",
       "      <td>I</td>\n",
       "      <td>Children Sizes 134-170</td>\n",
       "      <td>4</td>\n",
       "      <td>Baby/Children</td>\n",
       "      <td>77</td>\n",
       "      <td>Young Girl</td>\n",
       "      <td>1005</td>\n",
       "      <td>Jersey Fancy</td>\n",
       "      <td>Top in sweatshirt fabric with a print motif on...</td>\n",
       "    </tr>\n",
       "    <tr>\n",
       "      <th>77006</th>\n",
       "      <td>787523001</td>\n",
       "      <td>787523</td>\n",
       "      <td>Hat Salomon Woolmix</td>\n",
       "      <td>69</td>\n",
       "      <td>Cap/peaked</td>\n",
       "      <td>Accessories</td>\n",
       "      <td>1010026</td>\n",
       "      <td>Other structure</td>\n",
       "      <td>8</td>\n",
       "      <td>Dark Grey</td>\n",
       "      <td>...</td>\n",
       "      <td>Accessories</td>\n",
       "      <td>F</td>\n",
       "      <td>Menswear</td>\n",
       "      <td>3</td>\n",
       "      <td>Menswear</td>\n",
       "      <td>25</td>\n",
       "      <td>Men Accessories</td>\n",
       "      <td>1019</td>\n",
       "      <td>Accessories</td>\n",
       "      <td>Flat cap in a woven wool blend. Lined.</td>\n",
       "    </tr>\n",
       "    <tr>\n",
       "      <th>31704</th>\n",
       "      <td>633135004</td>\n",
       "      <td>633135</td>\n",
       "      <td>Eucalyptus CF</td>\n",
       "      <td>252</td>\n",
       "      <td>Sweater</td>\n",
       "      <td>Garment Upper body</td>\n",
       "      <td>1010014</td>\n",
       "      <td>Placement print</td>\n",
       "      <td>73</td>\n",
       "      <td>Dark Blue</td>\n",
       "      <td>...</td>\n",
       "      <td>Tops Fancy Jersey</td>\n",
       "      <td>D</td>\n",
       "      <td>Divided</td>\n",
       "      <td>2</td>\n",
       "      <td>Divided</td>\n",
       "      <td>53</td>\n",
       "      <td>Divided Collection</td>\n",
       "      <td>1005</td>\n",
       "      <td>Jersey Fancy</td>\n",
       "      <td>Top in sweatshirt fabric with dropped shoulder...</td>\n",
       "    </tr>\n",
       "    <tr>\n",
       "      <th>66559</th>\n",
       "      <td>748440001</td>\n",
       "      <td>748440</td>\n",
       "      <td>Joar CS blouse</td>\n",
       "      <td>258</td>\n",
       "      <td>Blouse</td>\n",
       "      <td>Garment Upper body</td>\n",
       "      <td>1010016</td>\n",
       "      <td>Solid</td>\n",
       "      <td>10</td>\n",
       "      <td>White</td>\n",
       "      <td>...</td>\n",
       "      <td>Blouse</td>\n",
       "      <td>A</td>\n",
       "      <td>Ladieswear</td>\n",
       "      <td>1</td>\n",
       "      <td>Ladieswear</td>\n",
       "      <td>6</td>\n",
       "      <td>Womens Casual</td>\n",
       "      <td>1010</td>\n",
       "      <td>Blouses</td>\n",
       "      <td>V-neck blouse in an airy weave with a pleated ...</td>\n",
       "    </tr>\n",
       "  </tbody>\n",
       "</table>\n",
       "<p>5 rows × 25 columns</p>\n",
       "</div>"
      ],
      "text/plain": [
       "       article_id  product_code            prod_name  product_type_no  \\\n",
       "67801   752280003        752280       CARL henley ss              255   \n",
       "13608   559018008        559018   Bella DEAL sweater              254   \n",
       "77006   787523001        787523  Hat Salomon Woolmix               69   \n",
       "31704   633135004        633135        Eucalyptus CF              252   \n",
       "66559   748440001        748440       Joar CS blouse              258   \n",
       "\n",
       "      product_type_name  product_group_name  graphical_appearance_no  \\\n",
       "67801           T-shirt  Garment Upper body                  1010017   \n",
       "13608               Top  Garment Upper body                  1010008   \n",
       "77006        Cap/peaked         Accessories                  1010026   \n",
       "31704           Sweater  Garment Upper body                  1010014   \n",
       "66559            Blouse  Garment Upper body                  1010016   \n",
       "\n",
       "      graphical_appearance_name  colour_group_code colour_group_name  ...  \\\n",
       "67801                    Stripe                 73         Dark Blue  ...   \n",
       "13608               Front print                  7              Grey  ...   \n",
       "77006           Other structure                  8         Dark Grey  ...   \n",
       "31704           Placement print                 73         Dark Blue  ...   \n",
       "66559                     Solid                 10             White  ...   \n",
       "\n",
       "               department_name index_code              index_name  \\\n",
       "67801    Kids Boy Jersey Fancy          H   Children Sizes 92-140   \n",
       "13608  Young Girl Jersey Fancy          I  Children Sizes 134-170   \n",
       "77006              Accessories          F                Menswear   \n",
       "31704        Tops Fancy Jersey          D                 Divided   \n",
       "66559                   Blouse          A              Ladieswear   \n",
       "\n",
       "      index_group_no  index_group_name section_no        section_name  \\\n",
       "67801              4     Baby/Children         46            Kids Boy   \n",
       "13608              4     Baby/Children         77          Young Girl   \n",
       "77006              3          Menswear         25     Men Accessories   \n",
       "31704              2           Divided         53  Divided Collection   \n",
       "66559              1        Ladieswear          6       Womens Casual   \n",
       "\n",
       "      garment_group_no  garment_group_name  \\\n",
       "67801             1005        Jersey Fancy   \n",
       "13608             1005        Jersey Fancy   \n",
       "77006             1019         Accessories   \n",
       "31704             1005        Jersey Fancy   \n",
       "66559             1010             Blouses   \n",
       "\n",
       "                                             detail_desc  \n",
       "67801  Henley shirt in cotton jersey with a button pl...  \n",
       "13608  Top in sweatshirt fabric with a print motif on...  \n",
       "77006             Flat cap in a woven wool blend. Lined.  \n",
       "31704  Top in sweatshirt fabric with dropped shoulder...  \n",
       "66559  V-neck blouse in an airy weave with a pleated ...  \n",
       "\n",
       "[5 rows x 25 columns]"
      ]
     },
     "execution_count": 2,
     "metadata": {},
     "output_type": "execute_result"
    }
   ],
   "source": [
    "articles = pd.read_csv('./articles.csv')\n",
    "articles.sample(5)"
   ]
  },
  {
   "cell_type": "code",
   "execution_count": 3,
   "metadata": {},
   "outputs": [
    {
     "data": {
      "text/plain": [
       "article_id                      0.000000\n",
       "product_code                    0.000000\n",
       "prod_name                       0.000000\n",
       "product_type_no                 0.000000\n",
       "product_type_name               0.000000\n",
       "product_group_name              0.000000\n",
       "graphical_appearance_no         0.000000\n",
       "graphical_appearance_name       0.000000\n",
       "colour_group_code               0.000000\n",
       "colour_group_name               0.000000\n",
       "perceived_colour_value_id       0.000000\n",
       "perceived_colour_value_name     0.000000\n",
       "perceived_colour_master_id      0.000000\n",
       "perceived_colour_master_name    0.000000\n",
       "department_no                   0.000000\n",
       "department_name                 0.000000\n",
       "index_code                      0.000000\n",
       "index_name                      0.000000\n",
       "index_group_no                  0.000000\n",
       "index_group_name                0.000000\n",
       "section_no                      0.000000\n",
       "section_name                    0.000000\n",
       "garment_group_no                0.000000\n",
       "garment_group_name              0.000000\n",
       "detail_desc                     0.003942\n",
       "dtype: float64"
      ]
     },
     "execution_count": 3,
     "metadata": {},
     "output_type": "execute_result"
    }
   ],
   "source": [
    "articles.isnull().sum()/len(articles)"
   ]
  },
  {
   "cell_type": "code",
   "execution_count": 4,
   "metadata": {},
   "outputs": [
    {
     "data": {
      "text/plain": [
       "article_id                      105542\n",
       "product_code                     47224\n",
       "prod_name                        45875\n",
       "product_type_no                    132\n",
       "product_type_name                  131\n",
       "product_group_name                  19\n",
       "graphical_appearance_no             30\n",
       "graphical_appearance_name           30\n",
       "colour_group_code                   50\n",
       "colour_group_name                   50\n",
       "perceived_colour_value_id            8\n",
       "perceived_colour_value_name          8\n",
       "perceived_colour_master_id          20\n",
       "perceived_colour_master_name        20\n",
       "department_no                      299\n",
       "department_name                    250\n",
       "index_code                          10\n",
       "index_name                          10\n",
       "index_group_no                       5\n",
       "index_group_name                     5\n",
       "section_no                          57\n",
       "section_name                        56\n",
       "garment_group_no                    21\n",
       "garment_group_name                  21\n",
       "detail_desc                      43404\n",
       "dtype: int64"
      ]
     },
     "execution_count": 4,
     "metadata": {},
     "output_type": "execute_result"
    }
   ],
   "source": [
    "articles.nunique()"
   ]
  },
  {
   "cell_type": "code",
   "execution_count": 5,
   "metadata": {},
   "outputs": [
    {
     "data": {
      "text/html": [
       "<div>\n",
       "<style scoped>\n",
       "    .dataframe tbody tr th:only-of-type {\n",
       "        vertical-align: middle;\n",
       "    }\n",
       "\n",
       "    .dataframe tbody tr th {\n",
       "        vertical-align: top;\n",
       "    }\n",
       "\n",
       "    .dataframe thead th {\n",
       "        text-align: right;\n",
       "    }\n",
       "</style>\n",
       "<table border=\"1\" class=\"dataframe\">\n",
       "  <thead>\n",
       "    <tr style=\"text-align: right;\">\n",
       "      <th></th>\n",
       "      <th>product_type_no</th>\n",
       "      <th>product_type_name</th>\n",
       "    </tr>\n",
       "  </thead>\n",
       "  <tbody>\n",
       "    <tr>\n",
       "      <th>6149</th>\n",
       "      <td>87</td>\n",
       "      <td>Boots</td>\n",
       "    </tr>\n",
       "    <tr>\n",
       "      <th>74656</th>\n",
       "      <td>252</td>\n",
       "      <td>Sweater</td>\n",
       "    </tr>\n",
       "    <tr>\n",
       "      <th>23585</th>\n",
       "      <td>265</td>\n",
       "      <td>Dress</td>\n",
       "    </tr>\n",
       "    <tr>\n",
       "      <th>10528</th>\n",
       "      <td>286</td>\n",
       "      <td>Underwear bottom</td>\n",
       "    </tr>\n",
       "    <tr>\n",
       "      <th>50596</th>\n",
       "      <td>272</td>\n",
       "      <td>Trousers</td>\n",
       "    </tr>\n",
       "  </tbody>\n",
       "</table>\n",
       "</div>"
      ],
      "text/plain": [
       "       product_type_no product_type_name\n",
       "6149                87             Boots\n",
       "74656              252           Sweater\n",
       "23585              265             Dress\n",
       "10528              286  Underwear bottom\n",
       "50596              272          Trousers"
      ]
     },
     "execution_count": 5,
     "metadata": {},
     "output_type": "execute_result"
    }
   ],
   "source": [
    "articles[['product_type_no','product_type_name']].sample(5)"
   ]
  },
  {
   "cell_type": "code",
   "execution_count": 6,
   "metadata": {},
   "outputs": [
    {
     "data": {
      "text/plain": [
       "array(['Garment Upper body', 'Underwear', 'Socks & Tights',\n",
       "       'Garment Lower body', 'Accessories', 'Items', 'Nightwear',\n",
       "       'Unknown', 'Underwear/nightwear', 'Shoes', 'Swimwear',\n",
       "       'Garment Full body', 'Cosmetic', 'Interior textile', 'Bags',\n",
       "       'Furniture', 'Garment and Shoe care', 'Fun', 'Stationery'],\n",
       "      dtype=object)"
      ]
     },
     "execution_count": 6,
     "metadata": {},
     "output_type": "execute_result"
    }
   ],
   "source": [
    "articles.product_group_name.unique()"
   ]
  },
  {
   "cell_type": "code",
   "execution_count": 7,
   "metadata": {},
   "outputs": [
    {
     "data": {
      "text/html": [
       "<div>\n",
       "<style scoped>\n",
       "    .dataframe tbody tr th:only-of-type {\n",
       "        vertical-align: middle;\n",
       "    }\n",
       "\n",
       "    .dataframe tbody tr th {\n",
       "        vertical-align: top;\n",
       "    }\n",
       "\n",
       "    .dataframe thead th {\n",
       "        text-align: right;\n",
       "    }\n",
       "</style>\n",
       "<table border=\"1\" class=\"dataframe\">\n",
       "  <thead>\n",
       "    <tr style=\"text-align: right;\">\n",
       "      <th></th>\n",
       "      <th>graphical_appearance_no</th>\n",
       "      <th>graphical_appearance_name</th>\n",
       "    </tr>\n",
       "  </thead>\n",
       "  <tbody>\n",
       "    <tr>\n",
       "      <th>95541</th>\n",
       "      <td>1010008</td>\n",
       "      <td>Front print</td>\n",
       "    </tr>\n",
       "    <tr>\n",
       "      <th>57379</th>\n",
       "      <td>1010023</td>\n",
       "      <td>Denim</td>\n",
       "    </tr>\n",
       "    <tr>\n",
       "      <th>70672</th>\n",
       "      <td>1010009</td>\n",
       "      <td>Glittering/Metallic</td>\n",
       "    </tr>\n",
       "    <tr>\n",
       "      <th>98157</th>\n",
       "      <td>1010016</td>\n",
       "      <td>Solid</td>\n",
       "    </tr>\n",
       "    <tr>\n",
       "      <th>8894</th>\n",
       "      <td>1010004</td>\n",
       "      <td>Check</td>\n",
       "    </tr>\n",
       "  </tbody>\n",
       "</table>\n",
       "</div>"
      ],
      "text/plain": [
       "       graphical_appearance_no graphical_appearance_name\n",
       "95541                  1010008               Front print\n",
       "57379                  1010023                     Denim\n",
       "70672                  1010009       Glittering/Metallic\n",
       "98157                  1010016                     Solid\n",
       "8894                   1010004                     Check"
      ]
     },
     "execution_count": 7,
     "metadata": {},
     "output_type": "execute_result"
    }
   ],
   "source": [
    "articles[['graphical_appearance_no','graphical_appearance_name']].sample(5)"
   ]
  },
  {
   "cell_type": "code",
   "execution_count": 8,
   "metadata": {
    "scrolled": true
   },
   "outputs": [
    {
     "data": {
      "text/html": [
       "<div>\n",
       "<style scoped>\n",
       "    .dataframe tbody tr th:only-of-type {\n",
       "        vertical-align: middle;\n",
       "    }\n",
       "\n",
       "    .dataframe tbody tr th {\n",
       "        vertical-align: top;\n",
       "    }\n",
       "\n",
       "    .dataframe thead th {\n",
       "        text-align: right;\n",
       "    }\n",
       "</style>\n",
       "<table border=\"1\" class=\"dataframe\">\n",
       "  <thead>\n",
       "    <tr style=\"text-align: right;\">\n",
       "      <th></th>\n",
       "      <th>colour_group_code</th>\n",
       "      <th>colour_group_name</th>\n",
       "    </tr>\n",
       "  </thead>\n",
       "  <tbody>\n",
       "    <tr>\n",
       "      <th>15348</th>\n",
       "      <td>14</td>\n",
       "      <td>Dark Beige</td>\n",
       "    </tr>\n",
       "    <tr>\n",
       "      <th>34093</th>\n",
       "      <td>81</td>\n",
       "      <td>Light Turquoise</td>\n",
       "    </tr>\n",
       "    <tr>\n",
       "      <th>45702</th>\n",
       "      <td>72</td>\n",
       "      <td>Blue</td>\n",
       "    </tr>\n",
       "    <tr>\n",
       "      <th>16654</th>\n",
       "      <td>3</td>\n",
       "      <td>Silver</td>\n",
       "    </tr>\n",
       "    <tr>\n",
       "      <th>43813</th>\n",
       "      <td>10</td>\n",
       "      <td>White</td>\n",
       "    </tr>\n",
       "  </tbody>\n",
       "</table>\n",
       "</div>"
      ],
      "text/plain": [
       "       colour_group_code colour_group_name\n",
       "15348                 14        Dark Beige\n",
       "34093                 81   Light Turquoise\n",
       "45702                 72              Blue\n",
       "16654                  3            Silver\n",
       "43813                 10             White"
      ]
     },
     "execution_count": 8,
     "metadata": {},
     "output_type": "execute_result"
    }
   ],
   "source": [
    "articles[['colour_group_code','colour_group_name']].sample(5)"
   ]
  },
  {
   "cell_type": "code",
   "execution_count": 9,
   "metadata": {},
   "outputs": [
    {
     "data": {
      "text/plain": [
       "(array([ 4,  3,  1,  2,  5,  7,  6, -1], dtype=int64),\n",
       " array(['Dark', 'Light', 'Dusty Light', 'Medium Dusty', 'Bright', 'Medium',\n",
       "        'Undefined', 'Unknown'], dtype=object))"
      ]
     },
     "execution_count": 9,
     "metadata": {},
     "output_type": "execute_result"
    }
   ],
   "source": [
    "articles.perceived_colour_value_id.unique(), articles.perceived_colour_value_name.unique()"
   ]
  },
  {
   "cell_type": "code",
   "execution_count": 10,
   "metadata": {},
   "outputs": [
    {
     "data": {
      "text/plain": [
       "(array([ 5,  9, 11, 12,  2,  4,  6, 18,  1,  3, 15, 13,  7,  8, 20, 19, 14,\n",
       "        -1, 10, 16], dtype=int64),\n",
       " array(['Black', 'White', 'Beige', 'Grey', 'Blue', 'Pink', 'Lilac Purple',\n",
       "        'Red', 'Mole', 'Orange', 'Metal', 'Brown', 'Turquoise', 'Yellow',\n",
       "        'Khaki green', 'Green', 'undefined', 'Unknown', 'Yellowish Green',\n",
       "        'Bluish Green'], dtype=object))"
      ]
     },
     "execution_count": 10,
     "metadata": {},
     "output_type": "execute_result"
    }
   ],
   "source": [
    "articles.perceived_colour_master_id.unique(), articles.perceived_colour_master_name.unique()"
   ]
  },
  {
   "cell_type": "code",
   "execution_count": 11,
   "metadata": {},
   "outputs": [
    {
     "data": {
      "text/html": [
       "<div>\n",
       "<style scoped>\n",
       "    .dataframe tbody tr th:only-of-type {\n",
       "        vertical-align: middle;\n",
       "    }\n",
       "\n",
       "    .dataframe tbody tr th {\n",
       "        vertical-align: top;\n",
       "    }\n",
       "\n",
       "    .dataframe thead th {\n",
       "        text-align: right;\n",
       "    }\n",
       "</style>\n",
       "<table border=\"1\" class=\"dataframe\">\n",
       "  <thead>\n",
       "    <tr style=\"text-align: right;\">\n",
       "      <th></th>\n",
       "      <th>department_no</th>\n",
       "      <th>department_name</th>\n",
       "    </tr>\n",
       "  </thead>\n",
       "  <tbody>\n",
       "    <tr>\n",
       "      <th>42861</th>\n",
       "      <td>1640</td>\n",
       "      <td>Tops Fancy Jersey</td>\n",
       "    </tr>\n",
       "    <tr>\n",
       "      <th>105531</th>\n",
       "      <td>1640</td>\n",
       "      <td>Tops Fancy Jersey</td>\n",
       "    </tr>\n",
       "    <tr>\n",
       "      <th>97361</th>\n",
       "      <td>1344</td>\n",
       "      <td>Dresses</td>\n",
       "    </tr>\n",
       "    <tr>\n",
       "      <th>93269</th>\n",
       "      <td>5687</td>\n",
       "      <td>Shorts</td>\n",
       "    </tr>\n",
       "    <tr>\n",
       "      <th>3021</th>\n",
       "      <td>4225</td>\n",
       "      <td>Young Boy UW/NW</td>\n",
       "    </tr>\n",
       "  </tbody>\n",
       "</table>\n",
       "</div>"
      ],
      "text/plain": [
       "        department_no    department_name\n",
       "42861            1640  Tops Fancy Jersey\n",
       "105531           1640  Tops Fancy Jersey\n",
       "97361            1344            Dresses\n",
       "93269            5687             Shorts\n",
       "3021             4225    Young Boy UW/NW"
      ]
     },
     "execution_count": 11,
     "metadata": {},
     "output_type": "execute_result"
    }
   ],
   "source": [
    "articles[['department_no','department_name']].sample(5)"
   ]
  },
  {
   "cell_type": "code",
   "execution_count": 12,
   "metadata": {},
   "outputs": [
    {
     "data": {
      "text/plain": [
       "(array(['A', 'B', 'G', 'F', 'C', 'S', 'H', 'D', 'I', 'J'], dtype=object),\n",
       " array(['Ladieswear', 'Lingeries/Tights', 'Baby Sizes 50-98', 'Menswear',\n",
       "        'Ladies Accessories', 'Sport', 'Children Sizes 92-140', 'Divided',\n",
       "        'Children Sizes 134-170', 'Children Accessories, Swimwear'],\n",
       "       dtype=object))"
      ]
     },
     "execution_count": 12,
     "metadata": {},
     "output_type": "execute_result"
    }
   ],
   "source": [
    "articles.index_code.unique(), articles.index_name.unique()"
   ]
  },
  {
   "cell_type": "code",
   "execution_count": 13,
   "metadata": {},
   "outputs": [
    {
     "data": {
      "text/plain": [
       "(array([ 1,  4,  3, 26,  2], dtype=int64),\n",
       " array(['Ladieswear', 'Baby/Children', 'Menswear', 'Sport', 'Divided'],\n",
       "       dtype=object))"
      ]
     },
     "execution_count": 13,
     "metadata": {},
     "output_type": "execute_result"
    }
   ],
   "source": [
    "articles.index_group_no.unique(), articles.index_group_name.unique()"
   ]
  },
  {
   "cell_type": "code",
   "execution_count": 14,
   "metadata": {},
   "outputs": [
    {
     "data": {
      "text/html": [
       "<div>\n",
       "<style scoped>\n",
       "    .dataframe tbody tr th:only-of-type {\n",
       "        vertical-align: middle;\n",
       "    }\n",
       "\n",
       "    .dataframe tbody tr th {\n",
       "        vertical-align: top;\n",
       "    }\n",
       "\n",
       "    .dataframe thead th {\n",
       "        text-align: right;\n",
       "    }\n",
       "</style>\n",
       "<table border=\"1\" class=\"dataframe\">\n",
       "  <thead>\n",
       "    <tr style=\"text-align: right;\">\n",
       "      <th></th>\n",
       "      <th>section_no</th>\n",
       "      <th>section_name</th>\n",
       "    </tr>\n",
       "  </thead>\n",
       "  <tbody>\n",
       "    <tr>\n",
       "      <th>96587</th>\n",
       "      <td>45</td>\n",
       "      <td>Kids Outerwear</td>\n",
       "    </tr>\n",
       "    <tr>\n",
       "      <th>33076</th>\n",
       "      <td>45</td>\n",
       "      <td>Kids Outerwear</td>\n",
       "    </tr>\n",
       "    <tr>\n",
       "      <th>72549</th>\n",
       "      <td>31</td>\n",
       "      <td>Mens Outerwear</td>\n",
       "    </tr>\n",
       "    <tr>\n",
       "      <th>39131</th>\n",
       "      <td>53</td>\n",
       "      <td>Divided Collection</td>\n",
       "    </tr>\n",
       "    <tr>\n",
       "      <th>80285</th>\n",
       "      <td>25</td>\n",
       "      <td>Men Accessories</td>\n",
       "    </tr>\n",
       "  </tbody>\n",
       "</table>\n",
       "</div>"
      ],
      "text/plain": [
       "       section_no        section_name\n",
       "96587          45      Kids Outerwear\n",
       "33076          45      Kids Outerwear\n",
       "72549          31      Mens Outerwear\n",
       "39131          53  Divided Collection\n",
       "80285          25     Men Accessories"
      ]
     },
     "execution_count": 14,
     "metadata": {},
     "output_type": "execute_result"
    }
   ],
   "source": [
    "articles[['section_no','section_name']].sample(5)"
   ]
  },
  {
   "cell_type": "code",
   "execution_count": 15,
   "metadata": {},
   "outputs": [
    {
     "data": {
      "text/plain": [
       "(array([1002, 1017, 1021, 1005, 1019, 1016, 1007, 1020, 1018, 1003, 1011,\n",
       "        1009, 1008, 1025, 1013, 1012, 1023, 1010, 1001, 1006, 1014],\n",
       "       dtype=int64),\n",
       " array(['Jersey Basic', 'Under-, Nightwear', 'Socks and Tights',\n",
       "        'Jersey Fancy', 'Accessories', 'Trousers Denim', 'Outdoor',\n",
       "        'Shoes', 'Swimwear', 'Knitwear', 'Shirts', 'Trousers', 'Dressed',\n",
       "        'Shorts', 'Dresses Ladies', 'Skirts', 'Special Offers', 'Blouses',\n",
       "        'Unknown', 'Woven/Jersey/Knitted mix Baby', 'Dresses/Skirts girls'],\n",
       "       dtype=object))"
      ]
     },
     "execution_count": 15,
     "metadata": {},
     "output_type": "execute_result"
    }
   ],
   "source": [
    "articles.garment_group_no.unique(), articles.garment_group_name.unique()"
   ]
  },
  {
   "cell_type": "code",
   "execution_count": 16,
   "metadata": {},
   "outputs": [],
   "source": [
    "ohe_columns = ['product_group_name', 'graphical_appearance_no','perceived_colour_master_id', 'index_code', \\\n",
    "               'garment_group_no']\n",
    "emb_columns = ['product_type_name', 'department_name', 'colour_group_name', 'section_name', 'detail_desc']"
   ]
  },
  {
   "cell_type": "markdown",
   "metadata": {},
   "source": [
    "## Preprocess articles"
   ]
  },
  {
   "cell_type": "markdown",
   "metadata": {
    "execution": {
     "iopub.execute_input": "2023-10-24T19:54:07.588983Z",
     "iopub.status.busy": "2023-10-24T19:54:07.588532Z",
     "iopub.status.idle": "2023-10-24T19:54:07.594885Z",
     "shell.execute_reply": "2023-10-24T19:54:07.593293Z",
     "shell.execute_reply.started": "2023-10-24T19:54:07.588951Z"
    }
   },
   "source": [
    "### Preprocess text columns"
   ]
  },
  {
   "cell_type": "code",
   "execution_count": 17,
   "metadata": {},
   "outputs": [
    {
     "data": {
      "text/html": [
       "<div>\n",
       "<style scoped>\n",
       "    .dataframe tbody tr th:only-of-type {\n",
       "        vertical-align: middle;\n",
       "    }\n",
       "\n",
       "    .dataframe tbody tr th {\n",
       "        vertical-align: top;\n",
       "    }\n",
       "\n",
       "    .dataframe thead th {\n",
       "        text-align: right;\n",
       "    }\n",
       "</style>\n",
       "<table border=\"1\" class=\"dataframe\">\n",
       "  <thead>\n",
       "    <tr style=\"text-align: right;\">\n",
       "      <th></th>\n",
       "      <th>article_id</th>\n",
       "      <th>product_type_name</th>\n",
       "      <th>department_name</th>\n",
       "      <th>colour_group_name</th>\n",
       "      <th>section_name</th>\n",
       "      <th>detail_desc</th>\n",
       "    </tr>\n",
       "  </thead>\n",
       "  <tbody>\n",
       "    <tr>\n",
       "      <th>0</th>\n",
       "      <td>108775015</td>\n",
       "      <td>Vest top</td>\n",
       "      <td>Jersey Basic</td>\n",
       "      <td>Black</td>\n",
       "      <td>Womens Everyday Basics</td>\n",
       "      <td>Jersey top with narrow shoulder straps.</td>\n",
       "    </tr>\n",
       "    <tr>\n",
       "      <th>1</th>\n",
       "      <td>108775044</td>\n",
       "      <td>Vest top</td>\n",
       "      <td>Jersey Basic</td>\n",
       "      <td>White</td>\n",
       "      <td>Womens Everyday Basics</td>\n",
       "      <td>Jersey top with narrow shoulder straps.</td>\n",
       "    </tr>\n",
       "    <tr>\n",
       "      <th>2</th>\n",
       "      <td>108775051</td>\n",
       "      <td>Vest top</td>\n",
       "      <td>Jersey Basic</td>\n",
       "      <td>Off White</td>\n",
       "      <td>Womens Everyday Basics</td>\n",
       "      <td>Jersey top with narrow shoulder straps.</td>\n",
       "    </tr>\n",
       "    <tr>\n",
       "      <th>3</th>\n",
       "      <td>110065001</td>\n",
       "      <td>Bra</td>\n",
       "      <td>Clean Lingerie</td>\n",
       "      <td>Black</td>\n",
       "      <td>Womens Lingerie</td>\n",
       "      <td>Microfibre T-shirt bra with underwired, moulde...</td>\n",
       "    </tr>\n",
       "    <tr>\n",
       "      <th>4</th>\n",
       "      <td>110065002</td>\n",
       "      <td>Bra</td>\n",
       "      <td>Clean Lingerie</td>\n",
       "      <td>White</td>\n",
       "      <td>Womens Lingerie</td>\n",
       "      <td>Microfibre T-shirt bra with underwired, moulde...</td>\n",
       "    </tr>\n",
       "    <tr>\n",
       "      <th>...</th>\n",
       "      <td>...</td>\n",
       "      <td>...</td>\n",
       "      <td>...</td>\n",
       "      <td>...</td>\n",
       "      <td>...</td>\n",
       "      <td>...</td>\n",
       "    </tr>\n",
       "    <tr>\n",
       "      <th>105537</th>\n",
       "      <td>953450001</td>\n",
       "      <td>Socks</td>\n",
       "      <td>Socks Bin</td>\n",
       "      <td>Black</td>\n",
       "      <td>Men Underwear</td>\n",
       "      <td>Socks in a fine-knit cotton blend with a small...</td>\n",
       "    </tr>\n",
       "    <tr>\n",
       "      <th>105538</th>\n",
       "      <td>953763001</td>\n",
       "      <td>Vest top</td>\n",
       "      <td>Jersey</td>\n",
       "      <td>Black</td>\n",
       "      <td>H&amp;M+</td>\n",
       "      <td>Loose-fitting sports vest top in ribbed fast-d...</td>\n",
       "    </tr>\n",
       "    <tr>\n",
       "      <th>105539</th>\n",
       "      <td>956217002</td>\n",
       "      <td>Dress</td>\n",
       "      <td>Jersey</td>\n",
       "      <td>Black</td>\n",
       "      <td>Womens Trend</td>\n",
       "      <td>Short, A-line dress in jersey with a round nec...</td>\n",
       "    </tr>\n",
       "    <tr>\n",
       "      <th>105540</th>\n",
       "      <td>957375001</td>\n",
       "      <td>Hair clip</td>\n",
       "      <td>Small Accessories</td>\n",
       "      <td>Black</td>\n",
       "      <td>Divided Accessories</td>\n",
       "      <td>Large plastic hair claw.</td>\n",
       "    </tr>\n",
       "    <tr>\n",
       "      <th>105541</th>\n",
       "      <td>959461001</td>\n",
       "      <td>Dress</td>\n",
       "      <td>Jersey</td>\n",
       "      <td>Off White</td>\n",
       "      <td>Womens Trend</td>\n",
       "      <td>Calf-length dress in ribbed jersey made from a...</td>\n",
       "    </tr>\n",
       "  </tbody>\n",
       "</table>\n",
       "<p>105542 rows × 6 columns</p>\n",
       "</div>"
      ],
      "text/plain": [
       "        article_id product_type_name    department_name colour_group_name  \\\n",
       "0        108775015          Vest top       Jersey Basic             Black   \n",
       "1        108775044          Vest top       Jersey Basic             White   \n",
       "2        108775051          Vest top       Jersey Basic         Off White   \n",
       "3        110065001               Bra     Clean Lingerie             Black   \n",
       "4        110065002               Bra     Clean Lingerie             White   \n",
       "...            ...               ...                ...               ...   \n",
       "105537   953450001             Socks          Socks Bin             Black   \n",
       "105538   953763001          Vest top             Jersey             Black   \n",
       "105539   956217002             Dress             Jersey             Black   \n",
       "105540   957375001         Hair clip  Small Accessories             Black   \n",
       "105541   959461001             Dress             Jersey         Off White   \n",
       "\n",
       "                  section_name  \\\n",
       "0       Womens Everyday Basics   \n",
       "1       Womens Everyday Basics   \n",
       "2       Womens Everyday Basics   \n",
       "3              Womens Lingerie   \n",
       "4              Womens Lingerie   \n",
       "...                        ...   \n",
       "105537           Men Underwear   \n",
       "105538                    H&M+   \n",
       "105539            Womens Trend   \n",
       "105540     Divided Accessories   \n",
       "105541            Womens Trend   \n",
       "\n",
       "                                              detail_desc  \n",
       "0                 Jersey top with narrow shoulder straps.  \n",
       "1                 Jersey top with narrow shoulder straps.  \n",
       "2                 Jersey top with narrow shoulder straps.  \n",
       "3       Microfibre T-shirt bra with underwired, moulde...  \n",
       "4       Microfibre T-shirt bra with underwired, moulde...  \n",
       "...                                                   ...  \n",
       "105537  Socks in a fine-knit cotton blend with a small...  \n",
       "105538  Loose-fitting sports vest top in ribbed fast-d...  \n",
       "105539  Short, A-line dress in jersey with a round nec...  \n",
       "105540                           Large plastic hair claw.  \n",
       "105541  Calf-length dress in ribbed jersey made from a...  \n",
       "\n",
       "[105542 rows x 6 columns]"
      ]
     },
     "execution_count": 17,
     "metadata": {},
     "output_type": "execute_result"
    }
   ],
   "source": [
    "articles[['article_id']+emb_columns]"
   ]
  },
  {
   "cell_type": "code",
   "execution_count": 18,
   "metadata": {},
   "outputs": [
    {
     "data": {
      "text/plain": [
       "array(['Set with six earrings and an ear cuff in metal decorated with glass rhinestones. The zinc content of the set is recycled.',\n",
       "       'Tights in soft lace with an elasticated waist.',\n",
       "       'Set with a long-sleeved top and a skirt in soft sweatshirt fabric made from an organic cotton blend. Top with ribbing around the neckline, cuffs and hem. Skater skirt with covered elastication at the waist.',\n",
       "       'Pyjamas with a long-sleeved top and bottoms in soft velour. Top with ribbing around the neckline, cuffs and hem. Bottoms with covered elastication at the waist and tapered legs with ribbed hems.',\n",
       "       'Knee-length skirt in soft, organic cotton jersey. High waist with elastication at the top for best fit over the tummy.',\n",
       "       'Lined, waterproof wellingtons with a relief-pattern on the shaft, a trim at the top in woven fabric with a drawstring, and chunky soles. Transparent section at the back of the soles with motion-activated flashing LED lights in various colours.',\n",
       "       'Studio Collection. Straight-style jumper in a sturdy, heavily draping knit with a stand-up collar and seams down the front with various-sized flounces that continue around the back of the neck. Long, ribbed sleeves with a slit at the cuffs, and a ribbed hem with slits in the sides. Studio Collection AW20 is a tribute to the rebellious, fearless individual who dares to break the mould – an individual who plays between the extremes and finds their style amongst the androgynous, eclectic and creative.',\n",
       "       'Joggers in sweatshirt fabric made from a cotton blend with an elasticated, drawstring waist, discreet side pockets and straight legs. Soft brushed inside. The polyester content of the joggers is recycled.',\n",
       "       'Calf-length cardigan knitted in a soft wool blend with a V-neck, buttons down the front and a detachable tie belt at the waist. Dropped shoulders, long sleeves and slits in the sides. Ribbing down the button band and at the cuffs and hem.',\n",
       "       'Short, boxy-style top in sweatshirt fabric made from a cotton blend with dropped shoulders and long sleeves with ribbing at the cuffs. Smocking at the hem. Soft brushed inside.',\n",
       "       'Joggers in soft sweatshirt fabric with an elasticated, drawstring waist, diagonal side pockets and slim legs with ribbed hems.',\n",
       "       'Small, folding hair brush with a rhinestone-decorated lid that has a mirror inside. Diameter 6.5 cm.',\n",
       "       'Fine-knit tights with an elasticated waist that are thinner at the top and more opaque at the bottom giving them the appearance of over-the-knee socks.',\n",
       "       'Fitted, calf-length dress in viscose jersey with a stand-up collar and concealed zip at the back. Double layer at the top with wrapover, draped sections, close-fitting, extra-long sleeves and an asymmetric skirt with a high slit in one side. Lined.',\n",
       "       'Fitted top in jersey with a round neckline and extra-long sleeves. Additional draped layer at the front.',\n",
       "       'Socks in a fine-knit cotton blend with a small motif at the top and elasticated tops.',\n",
       "       'Loose-fitting sports vest top in ribbed fast-drying functional fabric made from recycled polyester with a racer back and rounded hem.',\n",
       "       'Short, A-line dress in jersey with a round neckline and V-shaped opening at the front with narrow ties. Long, voluminous raglan sleeves and wide cuffs with covered buttons.',\n",
       "       'Large plastic hair claw.',\n",
       "       'Calf-length dress in ribbed jersey made from a cotton blend. Low-cut V-neck at the back, dropped shoulders and long, wide sleeves that taper to the cuffs. Unlined.'],\n",
       "      dtype=object)"
      ]
     },
     "execution_count": 18,
     "metadata": {},
     "output_type": "execute_result"
    }
   ],
   "source": [
    "articles['detail_desc'].unique()[-20:]"
   ]
  },
  {
   "cell_type": "code",
   "execution_count": 19,
   "metadata": {},
   "outputs": [
    {
     "name": "stdout",
     "output_type": "stream",
     "text": [
      "Requirement already satisfied: nltk in c:\\users\\user\\miniconda3\\envs\\example_env\\lib\\site-packages (3.8.1)\n",
      "Requirement already satisfied: click in c:\\users\\user\\miniconda3\\envs\\example_env\\lib\\site-packages (from nltk) (8.1.7)\n",
      "Requirement already satisfied: joblib in c:\\users\\user\\miniconda3\\envs\\example_env\\lib\\site-packages (from nltk) (1.3.2)\n",
      "Requirement already satisfied: regex>=2021.8.3 in c:\\users\\user\\miniconda3\\envs\\example_env\\lib\\site-packages (from nltk) (2023.10.3)\n",
      "Requirement already satisfied: tqdm in c:\\users\\user\\miniconda3\\envs\\example_env\\lib\\site-packages (from nltk) (4.65.0)\n",
      "Requirement already satisfied: colorama in c:\\users\\user\\miniconda3\\envs\\example_env\\lib\\site-packages (from click->nltk) (0.4.6)\n"
     ]
    },
    {
     "name": "stderr",
     "output_type": "stream",
     "text": [
      "[nltk_data] Downloading package wordnet to\n",
      "[nltk_data]     C:\\Users\\USER\\AppData\\Roaming\\nltk_data...\n",
      "[nltk_data]   Package wordnet is already up-to-date!\n"
     ]
    },
    {
     "data": {
      "text/plain": [
       "True"
      ]
     },
     "execution_count": 19,
     "metadata": {},
     "output_type": "execute_result"
    }
   ],
   "source": [
    "!pip install nltk\n",
    "import nltk\n",
    "nltk.download('wordnet')\n"
   ]
  },
  {
   "cell_type": "code",
   "execution_count": 20,
   "metadata": {},
   "outputs": [
    {
     "name": "stderr",
     "output_type": "stream",
     "text": [
      "[nltk_data] Downloading package stopwords to\n",
      "[nltk_data]     C:\\Users\\USER\\AppData\\Roaming\\nltk_data...\n",
      "[nltk_data]   Package stopwords is already up-to-date!\n"
     ]
    }
   ],
   "source": [
    "import re\n",
    "from nltk.stem import WordNetLemmatizer\n",
    "nltk.download('stopwords')\n",
    "stopwords = set(nltk.corpus.stopwords.words('english'))\n",
    "lemmatizer = WordNetLemmatizer()"
   ]
  },
  {
   "cell_type": "code",
   "execution_count": 21,
   "metadata": {},
   "outputs": [
    {
     "data": {
      "text/plain": [
       "'pocket slim fit tshirt h plus'"
      ]
     },
     "execution_count": 21,
     "metadata": {},
     "output_type": "execute_result"
    }
   ],
   "source": [
    "def preprocess(x):\n",
    "    x = ' '+x+' '\n",
    "    x = x.lower()\n",
    "    \n",
    "    # 숫자 제거\n",
    "    x = re.sub(r'\\d+\\-\\d+', ' ', x)\n",
    "    x = re.sub(r'\\d+\\.\\d+', ' ', x)\n",
    "    x = re.sub(r'\\d+/\\d+', ' ', x)\n",
    "    x = re.sub(r'\\d+', ' ', x)\n",
    "    # 괄호 안의 모든 내용 제거\n",
    "    x = re.sub(r'\\(.+?\\)', ' ', x)\n",
    "    \n",
    "    x = re.sub(r' cm ', ' ', x)\n",
    "    x = re.sub(r' denier ', ' ', x)\n",
    "    x = re.sub(r' t\\-shirt ', ' tshirt ', x)\n",
    "    x = re.sub(r'(\\w+)(\\+)', r'\\1 plus', x)\n",
    "    # 알파벳 문자 제외한 모든 것 제거\n",
    "    x = re.sub(r'[^a-z\\s]', ' ', x)\n",
    "    tokens = x.strip().split()\n",
    "    tokens = ' '.join([lemmatizer.lemmatize(token) for token in tokens if token not in stopwords])\n",
    "    return tokens\n",
    "\n",
    "s = '5-pocket slim-fit t-shirt h&m+'\n",
    "preprocess(s)"
   ]
  },
  {
   "cell_type": "code",
   "execution_count": 22,
   "metadata": {},
   "outputs": [
    {
     "name": "stderr",
     "output_type": "stream",
     "text": [
      "100%|████████████████████████████████████████████████████████████████████████| 105542/105542 [00:46<00:00, 2253.86it/s]\n"
     ]
    }
   ],
   "source": [
    "from tqdm import tqdm\n",
    "tqdm.pandas()\n",
    "articles['desc_full'] = articles['product_type_name']+' '+articles['department_name']+' '\\\n",
    "                        +articles['colour_group_name']+' '+articles['section_name']+' '\\\n",
    "                        +articles['detail_desc'].fillna(' ')\n",
    "articles['desc_full_prep'] = articles['desc_full'].progress_apply(preprocess)"
   ]
  },
  {
   "cell_type": "code",
   "execution_count": 23,
   "metadata": {},
   "outputs": [],
   "source": [
    "texts = articles['desc_full_prep'].unique().tolist()\n",
    "with open('texts_normalized.txt', 'w') as f:\n",
    "    for text in texts:\n",
    "        f.write(text)\n",
    "        f.write('\\n')"
   ]
  },
  {
   "cell_type": "code",
   "execution_count": 24,
   "metadata": {},
   "outputs": [
    {
     "name": "stdout",
     "output_type": "stream",
     "text": [
      "Requirement already satisfied: fasttext in c:\\users\\user\\miniconda3\\envs\\example_env\\lib\\site-packages (0.9.2)\n",
      "Requirement already satisfied: pybind11>=2.2 in c:\\users\\user\\miniconda3\\envs\\example_env\\lib\\site-packages (from fasttext) (2.11.1)\n",
      "Requirement already satisfied: setuptools>=0.7.0 in c:\\users\\user\\miniconda3\\envs\\example_env\\lib\\site-packages (from fasttext) (68.0.0)\n",
      "Requirement already satisfied: numpy in c:\\users\\user\\miniconda3\\envs\\example_env\\lib\\site-packages (from fasttext) (1.26.0)\n"
     ]
    }
   ],
   "source": [
    "!pip install fasttext\n",
    "import fasttext\n",
    "fasttext_model = fasttext.train_unsupervised('texts_normalized.txt', minn=2, maxn=5, dim=200)"
   ]
  },
  {
   "cell_type": "code",
   "execution_count": 25,
   "metadata": {},
   "outputs": [],
   "source": [
    "doc2vec_dict = {}\n",
    "for row in articles[['article_id', 'desc_full_prep']].itertuples():\n",
    "    doc2vec_dict[row[1]] = fasttext_model.get_sentence_vector(row[2])"
   ]
  },
  {
   "cell_type": "code",
   "execution_count": 26,
   "metadata": {},
   "outputs": [
    {
     "data": {
      "text/plain": [
       "(105542, 200)"
      ]
     },
     "execution_count": 26,
     "metadata": {},
     "output_type": "execute_result"
    }
   ],
   "source": [
    "emb_features = np.array(list(doc2vec_dict.values()))\n",
    "emb_features.shape"
   ]
  },
  {
   "cell_type": "markdown",
   "metadata": {},
   "source": [
    "### One Hot Encoding "
   ]
  },
  {
   "cell_type": "code",
   "execution_count": 27,
   "metadata": {},
   "outputs": [
    {
     "data": {
      "text/html": [
       "<div>\n",
       "<style scoped>\n",
       "    .dataframe tbody tr th:only-of-type {\n",
       "        vertical-align: middle;\n",
       "    }\n",
       "\n",
       "    .dataframe tbody tr th {\n",
       "        vertical-align: top;\n",
       "    }\n",
       "\n",
       "    .dataframe thead th {\n",
       "        text-align: right;\n",
       "    }\n",
       "</style>\n",
       "<table border=\"1\" class=\"dataframe\">\n",
       "  <thead>\n",
       "    <tr style=\"text-align: right;\">\n",
       "      <th></th>\n",
       "      <th>article_id</th>\n",
       "      <th>product_group_name</th>\n",
       "      <th>graphical_appearance_no</th>\n",
       "      <th>perceived_colour_master_id</th>\n",
       "      <th>index_code</th>\n",
       "      <th>garment_group_no</th>\n",
       "    </tr>\n",
       "  </thead>\n",
       "  <tbody>\n",
       "    <tr>\n",
       "      <th>0</th>\n",
       "      <td>108775015</td>\n",
       "      <td>Garment Upper body</td>\n",
       "      <td>1010016</td>\n",
       "      <td>5</td>\n",
       "      <td>A</td>\n",
       "      <td>1002</td>\n",
       "    </tr>\n",
       "    <tr>\n",
       "      <th>1</th>\n",
       "      <td>108775044</td>\n",
       "      <td>Garment Upper body</td>\n",
       "      <td>1010016</td>\n",
       "      <td>9</td>\n",
       "      <td>A</td>\n",
       "      <td>1002</td>\n",
       "    </tr>\n",
       "    <tr>\n",
       "      <th>2</th>\n",
       "      <td>108775051</td>\n",
       "      <td>Garment Upper body</td>\n",
       "      <td>1010017</td>\n",
       "      <td>9</td>\n",
       "      <td>A</td>\n",
       "      <td>1002</td>\n",
       "    </tr>\n",
       "    <tr>\n",
       "      <th>3</th>\n",
       "      <td>110065001</td>\n",
       "      <td>Underwear</td>\n",
       "      <td>1010016</td>\n",
       "      <td>5</td>\n",
       "      <td>B</td>\n",
       "      <td>1017</td>\n",
       "    </tr>\n",
       "    <tr>\n",
       "      <th>4</th>\n",
       "      <td>110065002</td>\n",
       "      <td>Underwear</td>\n",
       "      <td>1010016</td>\n",
       "      <td>9</td>\n",
       "      <td>B</td>\n",
       "      <td>1017</td>\n",
       "    </tr>\n",
       "    <tr>\n",
       "      <th>...</th>\n",
       "      <td>...</td>\n",
       "      <td>...</td>\n",
       "      <td>...</td>\n",
       "      <td>...</td>\n",
       "      <td>...</td>\n",
       "      <td>...</td>\n",
       "    </tr>\n",
       "    <tr>\n",
       "      <th>105537</th>\n",
       "      <td>953450001</td>\n",
       "      <td>Socks &amp; Tights</td>\n",
       "      <td>1010014</td>\n",
       "      <td>5</td>\n",
       "      <td>F</td>\n",
       "      <td>1021</td>\n",
       "    </tr>\n",
       "    <tr>\n",
       "      <th>105538</th>\n",
       "      <td>953763001</td>\n",
       "      <td>Garment Upper body</td>\n",
       "      <td>1010016</td>\n",
       "      <td>5</td>\n",
       "      <td>A</td>\n",
       "      <td>1005</td>\n",
       "    </tr>\n",
       "    <tr>\n",
       "      <th>105539</th>\n",
       "      <td>956217002</td>\n",
       "      <td>Garment Full body</td>\n",
       "      <td>1010016</td>\n",
       "      <td>5</td>\n",
       "      <td>A</td>\n",
       "      <td>1005</td>\n",
       "    </tr>\n",
       "    <tr>\n",
       "      <th>105540</th>\n",
       "      <td>957375001</td>\n",
       "      <td>Accessories</td>\n",
       "      <td>1010016</td>\n",
       "      <td>5</td>\n",
       "      <td>D</td>\n",
       "      <td>1019</td>\n",
       "    </tr>\n",
       "    <tr>\n",
       "      <th>105541</th>\n",
       "      <td>959461001</td>\n",
       "      <td>Garment Full body</td>\n",
       "      <td>1010016</td>\n",
       "      <td>9</td>\n",
       "      <td>A</td>\n",
       "      <td>1005</td>\n",
       "    </tr>\n",
       "  </tbody>\n",
       "</table>\n",
       "<p>105542 rows × 6 columns</p>\n",
       "</div>"
      ],
      "text/plain": [
       "        article_id  product_group_name  graphical_appearance_no  \\\n",
       "0        108775015  Garment Upper body                  1010016   \n",
       "1        108775044  Garment Upper body                  1010016   \n",
       "2        108775051  Garment Upper body                  1010017   \n",
       "3        110065001           Underwear                  1010016   \n",
       "4        110065002           Underwear                  1010016   \n",
       "...            ...                 ...                      ...   \n",
       "105537   953450001      Socks & Tights                  1010014   \n",
       "105538   953763001  Garment Upper body                  1010016   \n",
       "105539   956217002   Garment Full body                  1010016   \n",
       "105540   957375001         Accessories                  1010016   \n",
       "105541   959461001   Garment Full body                  1010016   \n",
       "\n",
       "        perceived_colour_master_id index_code  garment_group_no  \n",
       "0                                5          A              1002  \n",
       "1                                9          A              1002  \n",
       "2                                9          A              1002  \n",
       "3                                5          B              1017  \n",
       "4                                9          B              1017  \n",
       "...                            ...        ...               ...  \n",
       "105537                           5          F              1021  \n",
       "105538                           5          A              1005  \n",
       "105539                           5          A              1005  \n",
       "105540                           5          D              1019  \n",
       "105541                           9          A              1005  \n",
       "\n",
       "[105542 rows x 6 columns]"
      ]
     },
     "execution_count": 27,
     "metadata": {},
     "output_type": "execute_result"
    }
   ],
   "source": [
    "articles[['article_id']+ohe_columns]"
   ]
  },
  {
   "cell_type": "code",
   "execution_count": 28,
   "metadata": {},
   "outputs": [
    {
     "data": {
      "text/plain": [
       "(105542, 100)"
      ]
     },
     "execution_count": 28,
     "metadata": {},
     "output_type": "execute_result"
    }
   ],
   "source": [
    "ohe_features = pd.get_dummies(articles[ohe_columns].astype(str)).astype(int).values\n",
    "ohe_features.shape"
   ]
  },
  {
   "cell_type": "code",
   "execution_count": 29,
   "metadata": {},
   "outputs": [
    {
     "data": {
      "text/plain": [
       "(105542, 300)"
      ]
     },
     "execution_count": 29,
     "metadata": {},
     "output_type": "execute_result"
    }
   ],
   "source": [
    "articles_features = np.concatenate([emb_features, ohe_features], axis=1)\n",
    "articles_features.shape"
   ]
  },
  {
   "cell_type": "code",
   "execution_count": 30,
   "metadata": {},
   "outputs": [],
   "source": [
    "articles_features_with_id = {}\n",
    "for article_id, features in zip(articles['article_id'].values, articles_features):\n",
    "    articles_features_with_id[article_id] = features"
   ]
  },
  {
   "cell_type": "markdown",
   "metadata": {},
   "source": [
    "## EDA customers"
   ]
  },
  {
   "cell_type": "code",
   "execution_count": 31,
   "metadata": {},
   "outputs": [
    {
     "data": {
      "text/html": [
       "<div>\n",
       "<style scoped>\n",
       "    .dataframe tbody tr th:only-of-type {\n",
       "        vertical-align: middle;\n",
       "    }\n",
       "\n",
       "    .dataframe tbody tr th {\n",
       "        vertical-align: top;\n",
       "    }\n",
       "\n",
       "    .dataframe thead th {\n",
       "        text-align: right;\n",
       "    }\n",
       "</style>\n",
       "<table border=\"1\" class=\"dataframe\">\n",
       "  <thead>\n",
       "    <tr style=\"text-align: right;\">\n",
       "      <th></th>\n",
       "      <th>customer_id</th>\n",
       "      <th>FN</th>\n",
       "      <th>Active</th>\n",
       "      <th>club_member_status</th>\n",
       "      <th>fashion_news_frequency</th>\n",
       "      <th>age</th>\n",
       "      <th>postal_code</th>\n",
       "    </tr>\n",
       "  </thead>\n",
       "  <tbody>\n",
       "    <tr>\n",
       "      <th>0</th>\n",
       "      <td>00000dbacae5abe5e23885899a1fa44253a17956c6d1c3...</td>\n",
       "      <td>NaN</td>\n",
       "      <td>NaN</td>\n",
       "      <td>ACTIVE</td>\n",
       "      <td>NONE</td>\n",
       "      <td>49.0</td>\n",
       "      <td>52043ee2162cf5aa7ee79974281641c6f11a68d276429a...</td>\n",
       "    </tr>\n",
       "    <tr>\n",
       "      <th>1</th>\n",
       "      <td>0000423b00ade91418cceaf3b26c6af3dd342b51fd051e...</td>\n",
       "      <td>NaN</td>\n",
       "      <td>NaN</td>\n",
       "      <td>ACTIVE</td>\n",
       "      <td>NONE</td>\n",
       "      <td>25.0</td>\n",
       "      <td>2973abc54daa8a5f8ccfe9362140c63247c5eee03f1d93...</td>\n",
       "    </tr>\n",
       "    <tr>\n",
       "      <th>2</th>\n",
       "      <td>000058a12d5b43e67d225668fa1f8d618c13dc232df0ca...</td>\n",
       "      <td>NaN</td>\n",
       "      <td>NaN</td>\n",
       "      <td>ACTIVE</td>\n",
       "      <td>NONE</td>\n",
       "      <td>24.0</td>\n",
       "      <td>64f17e6a330a85798e4998f62d0930d14db8db1c054af6...</td>\n",
       "    </tr>\n",
       "    <tr>\n",
       "      <th>3</th>\n",
       "      <td>00005ca1c9ed5f5146b52ac8639a40ca9d57aeff4d1bd2...</td>\n",
       "      <td>NaN</td>\n",
       "      <td>NaN</td>\n",
       "      <td>ACTIVE</td>\n",
       "      <td>NONE</td>\n",
       "      <td>54.0</td>\n",
       "      <td>5d36574f52495e81f019b680c843c443bd343d5ca5b1c2...</td>\n",
       "    </tr>\n",
       "    <tr>\n",
       "      <th>4</th>\n",
       "      <td>00006413d8573cd20ed7128e53b7b13819fe5cfc2d801f...</td>\n",
       "      <td>1.0</td>\n",
       "      <td>1.0</td>\n",
       "      <td>ACTIVE</td>\n",
       "      <td>Regularly</td>\n",
       "      <td>52.0</td>\n",
       "      <td>25fa5ddee9aac01b35208d01736e57942317d756b32ddd...</td>\n",
       "    </tr>\n",
       "    <tr>\n",
       "      <th>...</th>\n",
       "      <td>...</td>\n",
       "      <td>...</td>\n",
       "      <td>...</td>\n",
       "      <td>...</td>\n",
       "      <td>...</td>\n",
       "      <td>...</td>\n",
       "      <td>...</td>\n",
       "    </tr>\n",
       "    <tr>\n",
       "      <th>1371975</th>\n",
       "      <td>ffffbbf78b6eaac697a8a5dfbfd2bfa8113ee5b403e474...</td>\n",
       "      <td>NaN</td>\n",
       "      <td>NaN</td>\n",
       "      <td>ACTIVE</td>\n",
       "      <td>NONE</td>\n",
       "      <td>24.0</td>\n",
       "      <td>7aa399f7e669990daba2d92c577b52237380662f36480b...</td>\n",
       "    </tr>\n",
       "    <tr>\n",
       "      <th>1371976</th>\n",
       "      <td>ffffcd5046a6143d29a04fb8c424ce494a76e5cdf4fab5...</td>\n",
       "      <td>NaN</td>\n",
       "      <td>NaN</td>\n",
       "      <td>ACTIVE</td>\n",
       "      <td>NONE</td>\n",
       "      <td>21.0</td>\n",
       "      <td>3f47f1279beb72215f4de557d950e0bfa73789d24acb5e...</td>\n",
       "    </tr>\n",
       "    <tr>\n",
       "      <th>1371977</th>\n",
       "      <td>ffffcf35913a0bee60e8741cb2b4e78b8a98ee5ff2e6a1...</td>\n",
       "      <td>1.0</td>\n",
       "      <td>1.0</td>\n",
       "      <td>ACTIVE</td>\n",
       "      <td>Regularly</td>\n",
       "      <td>21.0</td>\n",
       "      <td>4563fc79215672cd6a863f2b4bf56b8f898f2d96ed590e...</td>\n",
       "    </tr>\n",
       "    <tr>\n",
       "      <th>1371978</th>\n",
       "      <td>ffffd7744cebcf3aca44ae7049d2a94b87074c3d4ffe38...</td>\n",
       "      <td>1.0</td>\n",
       "      <td>1.0</td>\n",
       "      <td>ACTIVE</td>\n",
       "      <td>Regularly</td>\n",
       "      <td>18.0</td>\n",
       "      <td>8892c18e9bc3dca6aa4000cb8094fc4b51ee8db2ed14d7...</td>\n",
       "    </tr>\n",
       "    <tr>\n",
       "      <th>1371979</th>\n",
       "      <td>ffffd9ac14e89946416d80e791d064701994755c3ab686...</td>\n",
       "      <td>NaN</td>\n",
       "      <td>NaN</td>\n",
       "      <td>PRE-CREATE</td>\n",
       "      <td>NONE</td>\n",
       "      <td>65.0</td>\n",
       "      <td>0a1a03306fb2f62164c2a439b38c0caa64b40deaae8687...</td>\n",
       "    </tr>\n",
       "  </tbody>\n",
       "</table>\n",
       "<p>1371980 rows × 7 columns</p>\n",
       "</div>"
      ],
      "text/plain": [
       "                                               customer_id   FN  Active  \\\n",
       "0        00000dbacae5abe5e23885899a1fa44253a17956c6d1c3...  NaN     NaN   \n",
       "1        0000423b00ade91418cceaf3b26c6af3dd342b51fd051e...  NaN     NaN   \n",
       "2        000058a12d5b43e67d225668fa1f8d618c13dc232df0ca...  NaN     NaN   \n",
       "3        00005ca1c9ed5f5146b52ac8639a40ca9d57aeff4d1bd2...  NaN     NaN   \n",
       "4        00006413d8573cd20ed7128e53b7b13819fe5cfc2d801f...  1.0     1.0   \n",
       "...                                                    ...  ...     ...   \n",
       "1371975  ffffbbf78b6eaac697a8a5dfbfd2bfa8113ee5b403e474...  NaN     NaN   \n",
       "1371976  ffffcd5046a6143d29a04fb8c424ce494a76e5cdf4fab5...  NaN     NaN   \n",
       "1371977  ffffcf35913a0bee60e8741cb2b4e78b8a98ee5ff2e6a1...  1.0     1.0   \n",
       "1371978  ffffd7744cebcf3aca44ae7049d2a94b87074c3d4ffe38...  1.0     1.0   \n",
       "1371979  ffffd9ac14e89946416d80e791d064701994755c3ab686...  NaN     NaN   \n",
       "\n",
       "        club_member_status fashion_news_frequency   age  \\\n",
       "0                   ACTIVE                   NONE  49.0   \n",
       "1                   ACTIVE                   NONE  25.0   \n",
       "2                   ACTIVE                   NONE  24.0   \n",
       "3                   ACTIVE                   NONE  54.0   \n",
       "4                   ACTIVE              Regularly  52.0   \n",
       "...                    ...                    ...   ...   \n",
       "1371975             ACTIVE                   NONE  24.0   \n",
       "1371976             ACTIVE                   NONE  21.0   \n",
       "1371977             ACTIVE              Regularly  21.0   \n",
       "1371978             ACTIVE              Regularly  18.0   \n",
       "1371979         PRE-CREATE                   NONE  65.0   \n",
       "\n",
       "                                               postal_code  \n",
       "0        52043ee2162cf5aa7ee79974281641c6f11a68d276429a...  \n",
       "1        2973abc54daa8a5f8ccfe9362140c63247c5eee03f1d93...  \n",
       "2        64f17e6a330a85798e4998f62d0930d14db8db1c054af6...  \n",
       "3        5d36574f52495e81f019b680c843c443bd343d5ca5b1c2...  \n",
       "4        25fa5ddee9aac01b35208d01736e57942317d756b32ddd...  \n",
       "...                                                    ...  \n",
       "1371975  7aa399f7e669990daba2d92c577b52237380662f36480b...  \n",
       "1371976  3f47f1279beb72215f4de557d950e0bfa73789d24acb5e...  \n",
       "1371977  4563fc79215672cd6a863f2b4bf56b8f898f2d96ed590e...  \n",
       "1371978  8892c18e9bc3dca6aa4000cb8094fc4b51ee8db2ed14d7...  \n",
       "1371979  0a1a03306fb2f62164c2a439b38c0caa64b40deaae8687...  \n",
       "\n",
       "[1371980 rows x 7 columns]"
      ]
     },
     "execution_count": 31,
     "metadata": {},
     "output_type": "execute_result"
    }
   ],
   "source": [
    "customers = pd.read_csv('./customers.csv')\n",
    "customers"
   ]
  },
  {
   "cell_type": "code",
   "execution_count": 32,
   "metadata": {},
   "outputs": [
    {
     "data": {
      "text/plain": [
       "customer_id               0.000000\n",
       "FN                        0.652378\n",
       "Active                    0.661508\n",
       "club_member_status        0.004418\n",
       "fashion_news_frequency    0.011670\n",
       "age                       0.011561\n",
       "postal_code               0.000000\n",
       "dtype: float64"
      ]
     },
     "execution_count": 32,
     "metadata": {},
     "output_type": "execute_result"
    }
   ],
   "source": [
    "customers.isnull().sum()/len(customers)"
   ]
  },
  {
   "cell_type": "code",
   "execution_count": 33,
   "metadata": {},
   "outputs": [
    {
     "data": {
      "text/plain": [
       "customer_id               1371980\n",
       "FN                              1\n",
       "Active                          1\n",
       "club_member_status              3\n",
       "fashion_news_frequency          3\n",
       "age                            84\n",
       "postal_code                352899\n",
       "dtype: int64"
      ]
     },
     "execution_count": 33,
     "metadata": {},
     "output_type": "execute_result"
    }
   ],
   "source": [
    "customers.nunique()"
   ]
  },
  {
   "cell_type": "code",
   "execution_count": 34,
   "metadata": {},
   "outputs": [
    {
     "data": {
      "text/plain": [
       "count    1.356119e+06\n",
       "mean     3.638696e+01\n",
       "std      1.431363e+01\n",
       "min      1.600000e+01\n",
       "25%      2.400000e+01\n",
       "50%      3.200000e+01\n",
       "75%      4.900000e+01\n",
       "max      9.900000e+01\n",
       "Name: age, dtype: float64"
      ]
     },
     "execution_count": 34,
     "metadata": {},
     "output_type": "execute_result"
    }
   ],
   "source": [
    "customers['age'].describe()"
   ]
  },
  {
   "cell_type": "markdown",
   "metadata": {},
   "source": [
    "## Preprocess customers"
   ]
  },
  {
   "cell_type": "code",
   "execution_count": 35,
   "metadata": {},
   "outputs": [],
   "source": [
    "customers[['FN', 'Active']] = customers[['FN', 'Active']].fillna(0).astype(int)\n",
    "customers[['club_member_status', 'fashion_news_frequency']] = customers[['club_member_status', \\\n",
    "                                                                         'fashion_news_frequency']].fillna('NONE')"
   ]
  },
  {
   "cell_type": "code",
   "execution_count": 36,
   "metadata": {},
   "outputs": [
    {
     "data": {
      "text/html": [
       "<div>\n",
       "<style scoped>\n",
       "    .dataframe tbody tr th:only-of-type {\n",
       "        vertical-align: middle;\n",
       "    }\n",
       "\n",
       "    .dataframe tbody tr th {\n",
       "        vertical-align: top;\n",
       "    }\n",
       "\n",
       "    .dataframe thead th {\n",
       "        text-align: right;\n",
       "    }\n",
       "</style>\n",
       "<table border=\"1\" class=\"dataframe\">\n",
       "  <thead>\n",
       "    <tr style=\"text-align: right;\">\n",
       "      <th></th>\n",
       "      <th>customer_id</th>\n",
       "      <th>FN</th>\n",
       "      <th>Active</th>\n",
       "      <th>club_member_status</th>\n",
       "      <th>fashion_news_frequency</th>\n",
       "      <th>age</th>\n",
       "      <th>postal_code</th>\n",
       "      <th>age_bins</th>\n",
       "    </tr>\n",
       "  </thead>\n",
       "  <tbody>\n",
       "    <tr>\n",
       "      <th>0</th>\n",
       "      <td>00000dbacae5abe5e23885899a1fa44253a17956c6d1c3...</td>\n",
       "      <td>0</td>\n",
       "      <td>0</td>\n",
       "      <td>ACTIVE</td>\n",
       "      <td>NONE</td>\n",
       "      <td>49.0</td>\n",
       "      <td>52043ee2162cf5aa7ee79974281641c6f11a68d276429a...</td>\n",
       "      <td>5</td>\n",
       "    </tr>\n",
       "    <tr>\n",
       "      <th>1</th>\n",
       "      <td>0000423b00ade91418cceaf3b26c6af3dd342b51fd051e...</td>\n",
       "      <td>0</td>\n",
       "      <td>0</td>\n",
       "      <td>ACTIVE</td>\n",
       "      <td>NONE</td>\n",
       "      <td>25.0</td>\n",
       "      <td>2973abc54daa8a5f8ccfe9362140c63247c5eee03f1d93...</td>\n",
       "      <td>2</td>\n",
       "    </tr>\n",
       "    <tr>\n",
       "      <th>2</th>\n",
       "      <td>000058a12d5b43e67d225668fa1f8d618c13dc232df0ca...</td>\n",
       "      <td>0</td>\n",
       "      <td>0</td>\n",
       "      <td>ACTIVE</td>\n",
       "      <td>NONE</td>\n",
       "      <td>24.0</td>\n",
       "      <td>64f17e6a330a85798e4998f62d0930d14db8db1c054af6...</td>\n",
       "      <td>2</td>\n",
       "    </tr>\n",
       "    <tr>\n",
       "      <th>3</th>\n",
       "      <td>00005ca1c9ed5f5146b52ac8639a40ca9d57aeff4d1bd2...</td>\n",
       "      <td>0</td>\n",
       "      <td>0</td>\n",
       "      <td>ACTIVE</td>\n",
       "      <td>NONE</td>\n",
       "      <td>54.0</td>\n",
       "      <td>5d36574f52495e81f019b680c843c443bd343d5ca5b1c2...</td>\n",
       "      <td>6</td>\n",
       "    </tr>\n",
       "    <tr>\n",
       "      <th>4</th>\n",
       "      <td>00006413d8573cd20ed7128e53b7b13819fe5cfc2d801f...</td>\n",
       "      <td>1</td>\n",
       "      <td>1</td>\n",
       "      <td>ACTIVE</td>\n",
       "      <td>Regularly</td>\n",
       "      <td>52.0</td>\n",
       "      <td>25fa5ddee9aac01b35208d01736e57942317d756b32ddd...</td>\n",
       "      <td>6</td>\n",
       "    </tr>\n",
       "    <tr>\n",
       "      <th>...</th>\n",
       "      <td>...</td>\n",
       "      <td>...</td>\n",
       "      <td>...</td>\n",
       "      <td>...</td>\n",
       "      <td>...</td>\n",
       "      <td>...</td>\n",
       "      <td>...</td>\n",
       "      <td>...</td>\n",
       "    </tr>\n",
       "    <tr>\n",
       "      <th>1371975</th>\n",
       "      <td>ffffbbf78b6eaac697a8a5dfbfd2bfa8113ee5b403e474...</td>\n",
       "      <td>0</td>\n",
       "      <td>0</td>\n",
       "      <td>ACTIVE</td>\n",
       "      <td>NONE</td>\n",
       "      <td>24.0</td>\n",
       "      <td>7aa399f7e669990daba2d92c577b52237380662f36480b...</td>\n",
       "      <td>2</td>\n",
       "    </tr>\n",
       "    <tr>\n",
       "      <th>1371976</th>\n",
       "      <td>ffffcd5046a6143d29a04fb8c424ce494a76e5cdf4fab5...</td>\n",
       "      <td>0</td>\n",
       "      <td>0</td>\n",
       "      <td>ACTIVE</td>\n",
       "      <td>NONE</td>\n",
       "      <td>21.0</td>\n",
       "      <td>3f47f1279beb72215f4de557d950e0bfa73789d24acb5e...</td>\n",
       "      <td>2</td>\n",
       "    </tr>\n",
       "    <tr>\n",
       "      <th>1371977</th>\n",
       "      <td>ffffcf35913a0bee60e8741cb2b4e78b8a98ee5ff2e6a1...</td>\n",
       "      <td>1</td>\n",
       "      <td>1</td>\n",
       "      <td>ACTIVE</td>\n",
       "      <td>Regularly</td>\n",
       "      <td>21.0</td>\n",
       "      <td>4563fc79215672cd6a863f2b4bf56b8f898f2d96ed590e...</td>\n",
       "      <td>2</td>\n",
       "    </tr>\n",
       "    <tr>\n",
       "      <th>1371978</th>\n",
       "      <td>ffffd7744cebcf3aca44ae7049d2a94b87074c3d4ffe38...</td>\n",
       "      <td>1</td>\n",
       "      <td>1</td>\n",
       "      <td>ACTIVE</td>\n",
       "      <td>Regularly</td>\n",
       "      <td>18.0</td>\n",
       "      <td>8892c18e9bc3dca6aa4000cb8094fc4b51ee8db2ed14d7...</td>\n",
       "      <td>1</td>\n",
       "    </tr>\n",
       "    <tr>\n",
       "      <th>1371979</th>\n",
       "      <td>ffffd9ac14e89946416d80e791d064701994755c3ab686...</td>\n",
       "      <td>0</td>\n",
       "      <td>0</td>\n",
       "      <td>PRE-CREATE</td>\n",
       "      <td>NONE</td>\n",
       "      <td>65.0</td>\n",
       "      <td>0a1a03306fb2f62164c2a439b38c0caa64b40deaae8687...</td>\n",
       "      <td>7</td>\n",
       "    </tr>\n",
       "  </tbody>\n",
       "</table>\n",
       "<p>1371980 rows × 8 columns</p>\n",
       "</div>"
      ],
      "text/plain": [
       "                                               customer_id  FN  Active  \\\n",
       "0        00000dbacae5abe5e23885899a1fa44253a17956c6d1c3...   0       0   \n",
       "1        0000423b00ade91418cceaf3b26c6af3dd342b51fd051e...   0       0   \n",
       "2        000058a12d5b43e67d225668fa1f8d618c13dc232df0ca...   0       0   \n",
       "3        00005ca1c9ed5f5146b52ac8639a40ca9d57aeff4d1bd2...   0       0   \n",
       "4        00006413d8573cd20ed7128e53b7b13819fe5cfc2d801f...   1       1   \n",
       "...                                                    ...  ..     ...   \n",
       "1371975  ffffbbf78b6eaac697a8a5dfbfd2bfa8113ee5b403e474...   0       0   \n",
       "1371976  ffffcd5046a6143d29a04fb8c424ce494a76e5cdf4fab5...   0       0   \n",
       "1371977  ffffcf35913a0bee60e8741cb2b4e78b8a98ee5ff2e6a1...   1       1   \n",
       "1371978  ffffd7744cebcf3aca44ae7049d2a94b87074c3d4ffe38...   1       1   \n",
       "1371979  ffffd9ac14e89946416d80e791d064701994755c3ab686...   0       0   \n",
       "\n",
       "        club_member_status fashion_news_frequency   age  \\\n",
       "0                   ACTIVE                   NONE  49.0   \n",
       "1                   ACTIVE                   NONE  25.0   \n",
       "2                   ACTIVE                   NONE  24.0   \n",
       "3                   ACTIVE                   NONE  54.0   \n",
       "4                   ACTIVE              Regularly  52.0   \n",
       "...                    ...                    ...   ...   \n",
       "1371975             ACTIVE                   NONE  24.0   \n",
       "1371976             ACTIVE                   NONE  21.0   \n",
       "1371977             ACTIVE              Regularly  21.0   \n",
       "1371978             ACTIVE              Regularly  18.0   \n",
       "1371979         PRE-CREATE                   NONE  65.0   \n",
       "\n",
       "                                               postal_code age_bins  \n",
       "0        52043ee2162cf5aa7ee79974281641c6f11a68d276429a...        5  \n",
       "1        2973abc54daa8a5f8ccfe9362140c63247c5eee03f1d93...        2  \n",
       "2        64f17e6a330a85798e4998f62d0930d14db8db1c054af6...        2  \n",
       "3        5d36574f52495e81f019b680c843c443bd343d5ca5b1c2...        6  \n",
       "4        25fa5ddee9aac01b35208d01736e57942317d756b32ddd...        6  \n",
       "...                                                    ...      ...  \n",
       "1371975  7aa399f7e669990daba2d92c577b52237380662f36480b...        2  \n",
       "1371976  3f47f1279beb72215f4de557d950e0bfa73789d24acb5e...        2  \n",
       "1371977  4563fc79215672cd6a863f2b4bf56b8f898f2d96ed590e...        2  \n",
       "1371978  8892c18e9bc3dca6aa4000cb8094fc4b51ee8db2ed14d7...        1  \n",
       "1371979  0a1a03306fb2f62164c2a439b38c0caa64b40deaae8687...        7  \n",
       "\n",
       "[1371980 rows x 8 columns]"
      ]
     },
     "execution_count": 36,
     "metadata": {},
     "output_type": "execute_result"
    }
   ],
   "source": [
    "customers['age'] = customers['age'].fillna(customers['age'].mean())\n",
    "\n",
    "bins = [16, 20, 25, 30, 40, 50, 60, 100]\n",
    "labels = [1,2,3,4,5,6,7]\n",
    "customers['age_bins'] = pd.cut(customers['age'], bins=bins, labels=labels)\n",
    "customers"
   ]
  },
  {
   "cell_type": "code",
   "execution_count": 37,
   "metadata": {},
   "outputs": [
    {
     "data": {
      "text/plain": [
       "(1371980, 17)"
      ]
     },
     "execution_count": 37,
     "metadata": {},
     "output_type": "execute_result"
    }
   ],
   "source": [
    "ohe_columns = ['club_member_status', 'fashion_news_frequency', 'age_bins']\n",
    "ohe_features = pd.get_dummies(customers[ohe_columns].astype(str)).astype(int)\n",
    "customer_features = pd.concat([customers[['FN', 'Active']], ohe_features], axis=1).values\n",
    "customer_features.shape"
   ]
  },
  {
   "cell_type": "code",
   "execution_count": 38,
   "metadata": {},
   "outputs": [],
   "source": [
    "customer_features_with_id = {}\n",
    "for customer_id, features in zip(customers['customer_id'].values, customer_features):\n",
    "    customer_features_with_id[customer_id] = features"
   ]
  },
  {
   "cell_type": "markdown",
   "metadata": {},
   "source": [
    "## EDA transactions"
   ]
  },
  {
   "cell_type": "code",
   "execution_count": 39,
   "metadata": {},
   "outputs": [
    {
     "data": {
      "text/html": [
       "<div>\n",
       "<style scoped>\n",
       "    .dataframe tbody tr th:only-of-type {\n",
       "        vertical-align: middle;\n",
       "    }\n",
       "\n",
       "    .dataframe tbody tr th {\n",
       "        vertical-align: top;\n",
       "    }\n",
       "\n",
       "    .dataframe thead th {\n",
       "        text-align: right;\n",
       "    }\n",
       "</style>\n",
       "<table border=\"1\" class=\"dataframe\">\n",
       "  <thead>\n",
       "    <tr style=\"text-align: right;\">\n",
       "      <th></th>\n",
       "      <th>t_dat</th>\n",
       "      <th>customer_id</th>\n",
       "      <th>article_id</th>\n",
       "      <th>price</th>\n",
       "      <th>sales_channel_id</th>\n",
       "    </tr>\n",
       "  </thead>\n",
       "  <tbody>\n",
       "    <tr>\n",
       "      <th>0</th>\n",
       "      <td>2018-09-20</td>\n",
       "      <td>000058a12d5b43e67d225668fa1f8d618c13dc232df0ca...</td>\n",
       "      <td>663713001</td>\n",
       "      <td>0.050831</td>\n",
       "      <td>2</td>\n",
       "    </tr>\n",
       "    <tr>\n",
       "      <th>1</th>\n",
       "      <td>2018-09-20</td>\n",
       "      <td>000058a12d5b43e67d225668fa1f8d618c13dc232df0ca...</td>\n",
       "      <td>541518023</td>\n",
       "      <td>0.030492</td>\n",
       "      <td>2</td>\n",
       "    </tr>\n",
       "    <tr>\n",
       "      <th>2</th>\n",
       "      <td>2018-09-20</td>\n",
       "      <td>00007d2de826758b65a93dd24ce629ed66842531df6699...</td>\n",
       "      <td>505221004</td>\n",
       "      <td>0.015237</td>\n",
       "      <td>2</td>\n",
       "    </tr>\n",
       "    <tr>\n",
       "      <th>3</th>\n",
       "      <td>2018-09-20</td>\n",
       "      <td>00007d2de826758b65a93dd24ce629ed66842531df6699...</td>\n",
       "      <td>685687003</td>\n",
       "      <td>0.016932</td>\n",
       "      <td>2</td>\n",
       "    </tr>\n",
       "    <tr>\n",
       "      <th>4</th>\n",
       "      <td>2018-09-20</td>\n",
       "      <td>00007d2de826758b65a93dd24ce629ed66842531df6699...</td>\n",
       "      <td>685687004</td>\n",
       "      <td>0.016932</td>\n",
       "      <td>2</td>\n",
       "    </tr>\n",
       "    <tr>\n",
       "      <th>...</th>\n",
       "      <td>...</td>\n",
       "      <td>...</td>\n",
       "      <td>...</td>\n",
       "      <td>...</td>\n",
       "      <td>...</td>\n",
       "    </tr>\n",
       "    <tr>\n",
       "      <th>31788319</th>\n",
       "      <td>2020-09-22</td>\n",
       "      <td>fff2282977442e327b45d8c89afde25617d00124d0f999...</td>\n",
       "      <td>929511001</td>\n",
       "      <td>0.059305</td>\n",
       "      <td>2</td>\n",
       "    </tr>\n",
       "    <tr>\n",
       "      <th>31788320</th>\n",
       "      <td>2020-09-22</td>\n",
       "      <td>fff2282977442e327b45d8c89afde25617d00124d0f999...</td>\n",
       "      <td>891322004</td>\n",
       "      <td>0.042356</td>\n",
       "      <td>2</td>\n",
       "    </tr>\n",
       "    <tr>\n",
       "      <th>31788321</th>\n",
       "      <td>2020-09-22</td>\n",
       "      <td>fff380805474b287b05cb2a7507b9a013482f7dd0bce0e...</td>\n",
       "      <td>918325001</td>\n",
       "      <td>0.043203</td>\n",
       "      <td>1</td>\n",
       "    </tr>\n",
       "    <tr>\n",
       "      <th>31788322</th>\n",
       "      <td>2020-09-22</td>\n",
       "      <td>fff4d3a8b1f3b60af93e78c30a7cb4cf75edaf2590d3e5...</td>\n",
       "      <td>833459002</td>\n",
       "      <td>0.006763</td>\n",
       "      <td>1</td>\n",
       "    </tr>\n",
       "    <tr>\n",
       "      <th>31788323</th>\n",
       "      <td>2020-09-22</td>\n",
       "      <td>fffef3b6b73545df065b521e19f64bf6fe93bfd450ab20...</td>\n",
       "      <td>898573003</td>\n",
       "      <td>0.033881</td>\n",
       "      <td>2</td>\n",
       "    </tr>\n",
       "  </tbody>\n",
       "</table>\n",
       "<p>31788324 rows × 5 columns</p>\n",
       "</div>"
      ],
      "text/plain": [
       "               t_dat                                        customer_id  \\\n",
       "0         2018-09-20  000058a12d5b43e67d225668fa1f8d618c13dc232df0ca...   \n",
       "1         2018-09-20  000058a12d5b43e67d225668fa1f8d618c13dc232df0ca...   \n",
       "2         2018-09-20  00007d2de826758b65a93dd24ce629ed66842531df6699...   \n",
       "3         2018-09-20  00007d2de826758b65a93dd24ce629ed66842531df6699...   \n",
       "4         2018-09-20  00007d2de826758b65a93dd24ce629ed66842531df6699...   \n",
       "...              ...                                                ...   \n",
       "31788319  2020-09-22  fff2282977442e327b45d8c89afde25617d00124d0f999...   \n",
       "31788320  2020-09-22  fff2282977442e327b45d8c89afde25617d00124d0f999...   \n",
       "31788321  2020-09-22  fff380805474b287b05cb2a7507b9a013482f7dd0bce0e...   \n",
       "31788322  2020-09-22  fff4d3a8b1f3b60af93e78c30a7cb4cf75edaf2590d3e5...   \n",
       "31788323  2020-09-22  fffef3b6b73545df065b521e19f64bf6fe93bfd450ab20...   \n",
       "\n",
       "          article_id     price  sales_channel_id  \n",
       "0          663713001  0.050831                 2  \n",
       "1          541518023  0.030492                 2  \n",
       "2          505221004  0.015237                 2  \n",
       "3          685687003  0.016932                 2  \n",
       "4          685687004  0.016932                 2  \n",
       "...              ...       ...               ...  \n",
       "31788319   929511001  0.059305                 2  \n",
       "31788320   891322004  0.042356                 2  \n",
       "31788321   918325001  0.043203                 1  \n",
       "31788322   833459002  0.006763                 1  \n",
       "31788323   898573003  0.033881                 2  \n",
       "\n",
       "[31788324 rows x 5 columns]"
      ]
     },
     "execution_count": 39,
     "metadata": {},
     "output_type": "execute_result"
    }
   ],
   "source": [
    "transactions = pd.read_csv('./transactions_train.csv')\n",
    "transactions"
   ]
  },
  {
   "cell_type": "code",
   "execution_count": 40,
   "metadata": {},
   "outputs": [
    {
     "data": {
      "text/plain": [
       "<Axes: xlabel='t_dat'>"
      ]
     },
     "execution_count": 40,
     "metadata": {},
     "output_type": "execute_result"
    },
    {
     "data": {
      "image/png": "[encoded data removed]",
      "text/plain": [
       "<Figure size 2000x700 with 1 Axes>"
      ]
     },
     "metadata": {},
     "output_type": "display_data"
    }
   ],
   "source": [
    "pd.to_datetime(transactions['t_dat']).value_counts().sort_index().plot(kind='line', figsize=(20, 7))"
   ]
  },
  {
   "cell_type": "markdown",
   "metadata": {},
   "source": [
    "## Train test split"
   ]
  },
  {
   "cell_type": "code",
   "execution_count": 41,
   "metadata": {},
   "outputs": [
    {
     "data": {
      "text/plain": [
       "'2020-09-21'"
      ]
     },
     "execution_count": 41,
     "metadata": {},
     "output_type": "execute_result"
    }
   ],
   "source": [
    "from datetime import datetime, timedelta\n",
    "max_date = transactions['t_dat'].max()\n",
    "\n",
    "#test dataset을 위한 마지막 하루\n",
    "end_train_date = datetime.strptime(max_date, '%Y-%M-%d') - timedelta(days=1)\n",
    "end_train_date = end_train_date.strftime('%Y-%M-%d')\n",
    "end_train_date"
   ]
  },
  {
   "cell_type": "code",
   "execution_count": 42,
   "metadata": {},
   "outputs": [
    {
     "data": {
      "text/plain": [
       "((31755458, 5), (32866, 5))"
      ]
     },
     "execution_count": 42,
     "metadata": {},
     "output_type": "execute_result"
    }
   ],
   "source": [
    "transactions_train = transactions[transactions['t_dat']<=end_train_date]\n",
    "transactions_test = transactions[transactions['t_dat']>end_train_date]\n",
    "transactions_train.shape, transactions_test.shape"
   ]
  },
  {
   "cell_type": "code",
   "execution_count": 43,
   "metadata": {},
   "outputs": [],
   "source": [
    "articles_ids = pd.Series(list(articles_features_with_id.keys()))\n",
    "def create_zero_target(transactions_df_grouped):\n",
    "    cutomers_lst = []\n",
    "    articles_lst = []\n",
    "    for row in transactions_df_grouped[['customer_id', 'article_id']].itertuples():\n",
    "        customer_id, article_ids = row[1], row[2]\n",
    "        unord_article_id = articles_ids[~articles_ids.isin(article_ids)].sample(50)\n",
    "        cutomers_lst.append(customer_id)\n",
    "        articles_lst.append(unord_article_id)\n",
    "    df = pd.DataFrame({'customer_id':cutomers_lst, 'article_id':articles_lst, 'target':[0]*len(cutomers_lst)}).\\\n",
    "                                                                                            explode('article_id')\n",
    "    return df"
   ]
  },
  {
   "cell_type": "markdown",
   "metadata": {},
   "source": [
    "## Create test dataset"
   ]
  },
  {
   "cell_type": "code",
   "execution_count": 46,
   "metadata": {},
   "outputs": [],
   "source": [
    "transactions_test.loc[:,'target'] = 1"
   ]
  },
  {
   "cell_type": "code",
   "execution_count": 47,
   "metadata": {},
   "outputs": [
    {
     "data": {
      "text/html": [
       "<div>\n",
       "<style scoped>\n",
       "    .dataframe tbody tr th:only-of-type {\n",
       "        vertical-align: middle;\n",
       "    }\n",
       "\n",
       "    .dataframe tbody tr th {\n",
       "        vertical-align: top;\n",
       "    }\n",
       "\n",
       "    .dataframe thead th {\n",
       "        text-align: right;\n",
       "    }\n",
       "</style>\n",
       "<table border=\"1\" class=\"dataframe\">\n",
       "  <thead>\n",
       "    <tr style=\"text-align: right;\">\n",
       "      <th></th>\n",
       "      <th>customer_id</th>\n",
       "      <th>article_id</th>\n",
       "      <th>target</th>\n",
       "    </tr>\n",
       "  </thead>\n",
       "  <tbody>\n",
       "    <tr>\n",
       "      <th>0</th>\n",
       "      <td>0003e867a930d0d6842f923d6ba7c9b77aba33fe2a0fbf...</td>\n",
       "      <td>827487003</td>\n",
       "      <td>1</td>\n",
       "    </tr>\n",
       "    <tr>\n",
       "      <th>1</th>\n",
       "      <td>0003e867a930d0d6842f923d6ba7c9b77aba33fe2a0fbf...</td>\n",
       "      <td>612778003</td>\n",
       "      <td>0</td>\n",
       "    </tr>\n",
       "    <tr>\n",
       "      <th>2</th>\n",
       "      <td>0003e867a930d0d6842f923d6ba7c9b77aba33fe2a0fbf...</td>\n",
       "      <td>893416001</td>\n",
       "      <td>0</td>\n",
       "    </tr>\n",
       "    <tr>\n",
       "      <th>3</th>\n",
       "      <td>0003e867a930d0d6842f923d6ba7c9b77aba33fe2a0fbf...</td>\n",
       "      <td>558512024</td>\n",
       "      <td>0</td>\n",
       "    </tr>\n",
       "    <tr>\n",
       "      <th>4</th>\n",
       "      <td>0003e867a930d0d6842f923d6ba7c9b77aba33fe2a0fbf...</td>\n",
       "      <td>621931001</td>\n",
       "      <td>0</td>\n",
       "    </tr>\n",
       "    <tr>\n",
       "      <th>...</th>\n",
       "      <td>...</td>\n",
       "      <td>...</td>\n",
       "      <td>...</td>\n",
       "    </tr>\n",
       "    <tr>\n",
       "      <th>559261</th>\n",
       "      <td>fffef3b6b73545df065b521e19f64bf6fe93bfd450ab20...</td>\n",
       "      <td>716045001</td>\n",
       "      <td>0</td>\n",
       "    </tr>\n",
       "    <tr>\n",
       "      <th>559262</th>\n",
       "      <td>fffef3b6b73545df065b521e19f64bf6fe93bfd450ab20...</td>\n",
       "      <td>593447001</td>\n",
       "      <td>0</td>\n",
       "    </tr>\n",
       "    <tr>\n",
       "      <th>559263</th>\n",
       "      <td>fffef3b6b73545df065b521e19f64bf6fe93bfd450ab20...</td>\n",
       "      <td>814763001</td>\n",
       "      <td>0</td>\n",
       "    </tr>\n",
       "    <tr>\n",
       "      <th>559264</th>\n",
       "      <td>fffef3b6b73545df065b521e19f64bf6fe93bfd450ab20...</td>\n",
       "      <td>672777001</td>\n",
       "      <td>0</td>\n",
       "    </tr>\n",
       "    <tr>\n",
       "      <th>559265</th>\n",
       "      <td>fffef3b6b73545df065b521e19f64bf6fe93bfd450ab20...</td>\n",
       "      <td>635387010</td>\n",
       "      <td>0</td>\n",
       "    </tr>\n",
       "  </tbody>\n",
       "</table>\n",
       "<p>559266 rows × 3 columns</p>\n",
       "</div>"
      ],
      "text/plain": [
       "                                              customer_id article_id  target\n",
       "0       0003e867a930d0d6842f923d6ba7c9b77aba33fe2a0fbf...  827487003       1\n",
       "1       0003e867a930d0d6842f923d6ba7c9b77aba33fe2a0fbf...  612778003       0\n",
       "2       0003e867a930d0d6842f923d6ba7c9b77aba33fe2a0fbf...  893416001       0\n",
       "3       0003e867a930d0d6842f923d6ba7c9b77aba33fe2a0fbf...  558512024       0\n",
       "4       0003e867a930d0d6842f923d6ba7c9b77aba33fe2a0fbf...  621931001       0\n",
       "...                                                   ...        ...     ...\n",
       "559261  fffef3b6b73545df065b521e19f64bf6fe93bfd450ab20...  716045001       0\n",
       "559262  fffef3b6b73545df065b521e19f64bf6fe93bfd450ab20...  593447001       0\n",
       "559263  fffef3b6b73545df065b521e19f64bf6fe93bfd450ab20...  814763001       0\n",
       "559264  fffef3b6b73545df065b521e19f64bf6fe93bfd450ab20...  672777001       0\n",
       "559265  fffef3b6b73545df065b521e19f64bf6fe93bfd450ab20...  635387010       0\n",
       "\n",
       "[559266 rows x 3 columns]"
      ]
     },
     "execution_count": 47,
     "metadata": {},
     "output_type": "execute_result"
    }
   ],
   "source": [
    "transactions_test_grouped = transactions_test.drop(['article_id'], axis=1).\\\n",
    "                                                    merge(transactions[['customer_id', 'article_id']], \\\n",
    "                                                    how='left', on='customer_id').\\\n",
    "                                                    groupby('customer_id')['article_id'].apply(lambda x: \\\n",
    "                                                                                        list(set(x))).reset_index()\n",
    "zero_test_target = create_zero_target(transactions_test_grouped)\n",
    "test = pd.concat([transactions_test, zero_test_target])[['customer_id', 'article_id', 'target']].\\\n",
    "                                                                    sort_values(by='customer_id').reset_index(drop=True)\n",
    "test"
   ]
  },
  {
   "cell_type": "code",
   "execution_count": 48,
   "metadata": {},
   "outputs": [
    {
     "data": {
      "text/plain": [
       "((559266, 17), (559266, 300), (559266,))"
      ]
     },
     "execution_count": 48,
     "metadata": {},
     "output_type": "execute_result"
    }
   ],
   "source": [
    "test_customer_features = np.array([customer_features_with_id[customer_id] for customer_id in \\\n",
    "                                   test['customer_id'].values])\n",
    "test_article_features = np.array([articles_features_with_id[article_id] for article_id in \\\n",
    "                                  test['article_id'].values])\n",
    "test_target = test['target'].values\n",
    "test_customer_features.shape, test_article_features.shape, test_target.shape"
   ]
  },
  {
   "cell_type": "code",
   "execution_count": null,
   "metadata": {},
   "outputs": [],
   "source": []
  },
  {
   "cell_type": "markdown",
   "metadata": {},
   "source": [
    "## Create train dataset"
   ]
  },
  {
   "cell_type": "code",
   "execution_count": 49,
   "metadata": {},
   "outputs": [
    {
     "data": {
      "text/plain": [
       "(932082, 5)"
      ]
     },
     "execution_count": 49,
     "metadata": {},
     "output_type": "execute_result"
    }
   ],
   "source": [
    "transactions_train_grouped = transactions_train.groupby('customer_id')['article_id'].apply(lambda x: len(set(x)))\n",
    "selected_customers = transactions_train_grouped[transactions_train_grouped>10].sample(20000, random_state=1).index.values\n",
    "transactions_train = transactions_train[transactions_train['customer_id'].isin(selected_customers)]\n",
    "transactions_train.shape"
   ]
  },
  {
   "cell_type": "code",
   "execution_count": 50,
   "metadata": {},
   "outputs": [
    {
     "data": {
      "text/html": [
       "<div>\n",
       "<style scoped>\n",
       "    .dataframe tbody tr th:only-of-type {\n",
       "        vertical-align: middle;\n",
       "    }\n",
       "\n",
       "    .dataframe tbody tr th {\n",
       "        vertical-align: top;\n",
       "    }\n",
       "\n",
       "    .dataframe thead th {\n",
       "        text-align: right;\n",
       "    }\n",
       "</style>\n",
       "<table border=\"1\" class=\"dataframe\">\n",
       "  <thead>\n",
       "    <tr style=\"text-align: right;\">\n",
       "      <th></th>\n",
       "      <th>t_dat</th>\n",
       "      <th>customer_id</th>\n",
       "      <th>article_id</th>\n",
       "      <th>price</th>\n",
       "      <th>sales_channel_id</th>\n",
       "      <th>target</th>\n",
       "    </tr>\n",
       "  </thead>\n",
       "  <tbody>\n",
       "    <tr>\n",
       "      <th>89</th>\n",
       "      <td>2018-09-20</td>\n",
       "      <td>00708c3da4d07706d4cad77c6aecc1b1ce33d21d73022c...</td>\n",
       "      <td>255396006</td>\n",
       "      <td>0.067780</td>\n",
       "      <td>2</td>\n",
       "      <td>0.24429</td>\n",
       "    </tr>\n",
       "    <tr>\n",
       "      <th>90</th>\n",
       "      <td>2018-09-20</td>\n",
       "      <td>00708c3da4d07706d4cad77c6aecc1b1ce33d21d73022c...</td>\n",
       "      <td>594834010</td>\n",
       "      <td>0.042356</td>\n",
       "      <td>2</td>\n",
       "      <td>0.24429</td>\n",
       "    </tr>\n",
       "    <tr>\n",
       "      <th>91</th>\n",
       "      <td>2018-09-20</td>\n",
       "      <td>00708c3da4d07706d4cad77c6aecc1b1ce33d21d73022c...</td>\n",
       "      <td>516712001</td>\n",
       "      <td>0.022017</td>\n",
       "      <td>2</td>\n",
       "      <td>0.24429</td>\n",
       "    </tr>\n",
       "    <tr>\n",
       "      <th>93</th>\n",
       "      <td>2018-09-20</td>\n",
       "      <td>00761aefe07a2dd6ca110c99f3856ede55f20ff00ce754...</td>\n",
       "      <td>634015003</td>\n",
       "      <td>0.012186</td>\n",
       "      <td>1</td>\n",
       "      <td>0.24429</td>\n",
       "    </tr>\n",
       "    <tr>\n",
       "      <th>94</th>\n",
       "      <td>2018-09-20</td>\n",
       "      <td>00761aefe07a2dd6ca110c99f3856ede55f20ff00ce754...</td>\n",
       "      <td>636351002</td>\n",
       "      <td>0.007610</td>\n",
       "      <td>1</td>\n",
       "      <td>0.24429</td>\n",
       "    </tr>\n",
       "    <tr>\n",
       "      <th>...</th>\n",
       "      <td>...</td>\n",
       "      <td>...</td>\n",
       "      <td>...</td>\n",
       "      <td>...</td>\n",
       "      <td>...</td>\n",
       "      <td>...</td>\n",
       "    </tr>\n",
       "    <tr>\n",
       "      <th>31755087</th>\n",
       "      <td>2020-09-21</td>\n",
       "      <td>fd5873bd76605e3197d653b338c7fc147c93f195366059...</td>\n",
       "      <td>915529005</td>\n",
       "      <td>0.033881</td>\n",
       "      <td>2</td>\n",
       "      <td>1.00000</td>\n",
       "    </tr>\n",
       "    <tr>\n",
       "      <th>31755088</th>\n",
       "      <td>2020-09-21</td>\n",
       "      <td>fd63229e7189ef8731f1584d3a29fd36af4c5853a3ab2b...</td>\n",
       "      <td>936282001</td>\n",
       "      <td>0.025407</td>\n",
       "      <td>2</td>\n",
       "      <td>1.00000</td>\n",
       "    </tr>\n",
       "    <tr>\n",
       "      <th>31755313</th>\n",
       "      <td>2020-09-21</td>\n",
       "      <td>ff05ae6e56395fe81a69192c23f054ffda5e69c1ec28b5...</td>\n",
       "      <td>837249002</td>\n",
       "      <td>0.013542</td>\n",
       "      <td>1</td>\n",
       "      <td>1.00000</td>\n",
       "    </tr>\n",
       "    <tr>\n",
       "      <th>31755314</th>\n",
       "      <td>2020-09-21</td>\n",
       "      <td>ff05ae6e56395fe81a69192c23f054ffda5e69c1ec28b5...</td>\n",
       "      <td>719957017</td>\n",
       "      <td>0.022017</td>\n",
       "      <td>1</td>\n",
       "      <td>1.00000</td>\n",
       "    </tr>\n",
       "    <tr>\n",
       "      <th>31755398</th>\n",
       "      <td>2020-09-21</td>\n",
       "      <td>ff639548ca0e8864613d7be6f397125a9f7aa5913165f8...</td>\n",
       "      <td>874671002</td>\n",
       "      <td>0.011847</td>\n",
       "      <td>2</td>\n",
       "      <td>1.00000</td>\n",
       "    </tr>\n",
       "  </tbody>\n",
       "</table>\n",
       "<p>932082 rows × 6 columns</p>\n",
       "</div>"
      ],
      "text/plain": [
       "              t_dat                                        customer_id  \\\n",
       "89       2018-09-20  00708c3da4d07706d4cad77c6aecc1b1ce33d21d73022c...   \n",
       "90       2018-09-20  00708c3da4d07706d4cad77c6aecc1b1ce33d21d73022c...   \n",
       "91       2018-09-20  00708c3da4d07706d4cad77c6aecc1b1ce33d21d73022c...   \n",
       "93       2018-09-20  00761aefe07a2dd6ca110c99f3856ede55f20ff00ce754...   \n",
       "94       2018-09-20  00761aefe07a2dd6ca110c99f3856ede55f20ff00ce754...   \n",
       "...             ...                                                ...   \n",
       "31755087 2020-09-21  fd5873bd76605e3197d653b338c7fc147c93f195366059...   \n",
       "31755088 2020-09-21  fd63229e7189ef8731f1584d3a29fd36af4c5853a3ab2b...   \n",
       "31755313 2020-09-21  ff05ae6e56395fe81a69192c23f054ffda5e69c1ec28b5...   \n",
       "31755314 2020-09-21  ff05ae6e56395fe81a69192c23f054ffda5e69c1ec28b5...   \n",
       "31755398 2020-09-21  ff639548ca0e8864613d7be6f397125a9f7aa5913165f8...   \n",
       "\n",
       "          article_id     price  sales_channel_id   target  \n",
       "89         255396006  0.067780                 2  0.24429  \n",
       "90         594834010  0.042356                 2  0.24429  \n",
       "91         516712001  0.022017                 2  0.24429  \n",
       "93         634015003  0.012186                 1  0.24429  \n",
       "94         636351002  0.007610                 1  0.24429  \n",
       "...              ...       ...               ...      ...  \n",
       "31755087   915529005  0.033881                 2  1.00000  \n",
       "31755088   936282001  0.025407                 2  1.00000  \n",
       "31755313   837249002  0.013542                 1  1.00000  \n",
       "31755314   719957017  0.022017                 1  1.00000  \n",
       "31755398   874671002  0.011847                 2  1.00000  \n",
       "\n",
       "[932082 rows x 6 columns]"
      ]
     },
     "execution_count": 50,
     "metadata": {},
     "output_type": "execute_result"
    }
   ],
   "source": [
    "transactions_train['t_dat'] = pd.to_datetime(transactions_train['t_dat'])\n",
    "dt_train_max = transactions_train['t_dat'].max()\n",
    "rating_dict = {x: 0.5**((dt_train_max - x).days/360) for x in transactions_train['t_dat'].unique()}\n",
    "transactions_train['target'] = transactions_train['t_dat'].map(rating_dict)\n",
    "transactions_train"
   ]
  },
  {
   "cell_type": "code",
   "execution_count": 69,
   "metadata": {},
   "outputs": [
    {
     "data": {
      "text/html": [
       "<div>\n",
       "<style scoped>\n",
       "    .dataframe tbody tr th:only-of-type {\n",
       "        vertical-align: middle;\n",
       "    }\n",
       "\n",
       "    .dataframe tbody tr th {\n",
       "        vertical-align: top;\n",
       "    }\n",
       "\n",
       "    .dataframe thead th {\n",
       "        text-align: right;\n",
       "    }\n",
       "</style>\n",
       "<table border=\"1\" class=\"dataframe\">\n",
       "  <thead>\n",
       "    <tr style=\"text-align: right;\">\n",
       "      <th></th>\n",
       "      <th>customer_id</th>\n",
       "      <th>article_id</th>\n",
       "      <th>target</th>\n",
       "    </tr>\n",
       "  </thead>\n",
       "  <tbody>\n",
       "    <tr>\n",
       "      <th>0</th>\n",
       "      <td>00015c1a121e08bbd2552c15fbbb6e6b19d3bf8f7b6a3d...</td>\n",
       "      <td>669786001</td>\n",
       "      <td>0.485766</td>\n",
       "    </tr>\n",
       "    <tr>\n",
       "      <th>1</th>\n",
       "      <td>00015c1a121e08bbd2552c15fbbb6e6b19d3bf8f7b6a3d...</td>\n",
       "      <td>711726003</td>\n",
       "      <td>0.000000</td>\n",
       "    </tr>\n",
       "    <tr>\n",
       "      <th>2</th>\n",
       "      <td>00015c1a121e08bbd2552c15fbbb6e6b19d3bf8f7b6a3d...</td>\n",
       "      <td>687024001</td>\n",
       "      <td>0.000000</td>\n",
       "    </tr>\n",
       "    <tr>\n",
       "      <th>3</th>\n",
       "      <td>00015c1a121e08bbd2552c15fbbb6e6b19d3bf8f7b6a3d...</td>\n",
       "      <td>812461001</td>\n",
       "      <td>0.000000</td>\n",
       "    </tr>\n",
       "    <tr>\n",
       "      <th>4</th>\n",
       "      <td>00015c1a121e08bbd2552c15fbbb6e6b19d3bf8f7b6a3d...</td>\n",
       "      <td>719209003</td>\n",
       "      <td>0.000000</td>\n",
       "    </tr>\n",
       "    <tr>\n",
       "      <th>...</th>\n",
       "      <td>...</td>\n",
       "      <td>...</td>\n",
       "      <td>...</td>\n",
       "    </tr>\n",
       "    <tr>\n",
       "      <th>1932077</th>\n",
       "      <td>fffd70b14382482cf3d10def86df367b2b6e0af711dede...</td>\n",
       "      <td>850587004</td>\n",
       "      <td>0.901250</td>\n",
       "    </tr>\n",
       "    <tr>\n",
       "      <th>1932078</th>\n",
       "      <td>fffd70b14382482cf3d10def86df367b2b6e0af711dede...</td>\n",
       "      <td>762188002</td>\n",
       "      <td>0.901250</td>\n",
       "    </tr>\n",
       "    <tr>\n",
       "      <th>1932079</th>\n",
       "      <td>fffd70b14382482cf3d10def86df367b2b6e0af711dede...</td>\n",
       "      <td>797088008</td>\n",
       "      <td>0.564482</td>\n",
       "    </tr>\n",
       "    <tr>\n",
       "      <th>1932080</th>\n",
       "      <td>fffd70b14382482cf3d10def86df367b2b6e0af711dede...</td>\n",
       "      <td>769270001</td>\n",
       "      <td>0.648420</td>\n",
       "    </tr>\n",
       "    <tr>\n",
       "      <th>1932081</th>\n",
       "      <td>fffd70b14382482cf3d10def86df367b2b6e0af711dede...</td>\n",
       "      <td>455014022</td>\n",
       "      <td>0.000000</td>\n",
       "    </tr>\n",
       "  </tbody>\n",
       "</table>\n",
       "<p>1932082 rows × 3 columns</p>\n",
       "</div>"
      ],
      "text/plain": [
       "                                               customer_id article_id  \\\n",
       "0        00015c1a121e08bbd2552c15fbbb6e6b19d3bf8f7b6a3d...  669786001   \n",
       "1        00015c1a121e08bbd2552c15fbbb6e6b19d3bf8f7b6a3d...  711726003   \n",
       "2        00015c1a121e08bbd2552c15fbbb6e6b19d3bf8f7b6a3d...  687024001   \n",
       "3        00015c1a121e08bbd2552c15fbbb6e6b19d3bf8f7b6a3d...  812461001   \n",
       "4        00015c1a121e08bbd2552c15fbbb6e6b19d3bf8f7b6a3d...  719209003   \n",
       "...                                                    ...        ...   \n",
       "1932077  fffd70b14382482cf3d10def86df367b2b6e0af711dede...  850587004   \n",
       "1932078  fffd70b14382482cf3d10def86df367b2b6e0af711dede...  762188002   \n",
       "1932079  fffd70b14382482cf3d10def86df367b2b6e0af711dede...  797088008   \n",
       "1932080  fffd70b14382482cf3d10def86df367b2b6e0af711dede...  769270001   \n",
       "1932081  fffd70b14382482cf3d10def86df367b2b6e0af711dede...  455014022   \n",
       "\n",
       "           target  \n",
       "0        0.485766  \n",
       "1        0.000000  \n",
       "2        0.000000  \n",
       "3        0.000000  \n",
       "4        0.000000  \n",
       "...           ...  \n",
       "1932077  0.901250  \n",
       "1932078  0.901250  \n",
       "1932079  0.564482  \n",
       "1932080  0.648420  \n",
       "1932081  0.000000  \n",
       "\n",
       "[1932082 rows x 3 columns]"
      ]
     },
     "execution_count": 69,
     "metadata": {},
     "output_type": "execute_result"
    }
   ],
   "source": [
    "transactions_train_grouped = transactions_train.drop(['article_id'], axis=1).\\\n",
    "                                                    merge(transactions[['customer_id', 'article_id']], \\\n",
    "                                                    how='left', on='customer_id').\\\n",
    "                                                    groupby('customer_id')['article_id'].\\\n",
    "                                                    apply(lambda x: list(set(x))).reset_index()\n",
    "\n",
    "zero_train_target = create_zero_target(transactions_train_grouped)\n",
    "train = pd.concat([transactions_train, zero_train_target])[['customer_id', 'article_id', 'target']].\\\n",
    "                                                                    sort_values(by='customer_id').reset_index(drop=True)\n",
    "train"
   ]
  },
  {
   "cell_type": "code",
   "execution_count": 70,
   "metadata": {},
   "outputs": [
    {
     "data": {
      "text/plain": [
       "((1932082, 17), (1932082, 300), (1932082,))"
      ]
     },
     "execution_count": 70,
     "metadata": {},
     "output_type": "execute_result"
    }
   ],
   "source": [
    "train_customer_features = np.array([customer_features_with_id[customer_id] for customer_id in \\\n",
    "                                    train['customer_id'].values])\n",
    "train_article_features = np.array([articles_features_with_id[article_id] for article_id in \\\n",
    "                                   train['article_id'].values])\n",
    "train_target = train['target'].values\n",
    "train_customer_features.shape, train_article_features.shape, train_target.shape"
   ]
  },
  {
   "cell_type": "code",
   "execution_count": 71,
   "metadata": {},
   "outputs": [
    {
     "data": {
      "text/plain": [
       "29"
      ]
     },
     "execution_count": 71,
     "metadata": {},
     "output_type": "execute_result"
    }
   ],
   "source": [
    "del transactions_train\n",
    "del transactions_train_grouped\n",
    "del transactions_test\n",
    "del transactions_test_grouped\n",
    "import gc\n",
    "gc.collect()"
   ]
  },
  {
   "cell_type": "markdown",
   "metadata": {},
   "source": [
    "## Train model"
   ]
  },
  {
   "cell_type": "code",
   "execution_count": 72,
   "metadata": {},
   "outputs": [
    {
     "name": "stdout",
     "output_type": "stream",
     "text": [
      "Requirement already satisfied: tensorflow in c:\\users\\user\\miniconda3\\envs\\example_env\\lib\\site-packages (2.15.0)\n",
      "Requirement already satisfied: tensorflow-intel==2.15.0 in c:\\users\\user\\miniconda3\\envs\\example_env\\lib\\site-packages (from tensorflow) (2.15.0)\n",
      "Requirement already satisfied: absl-py>=1.0.0 in c:\\users\\user\\miniconda3\\envs\\example_env\\lib\\site-packages (from tensorflow-intel==2.15.0->tensorflow) (2.0.0)\n",
      "Requirement already satisfied: astunparse>=1.6.0 in c:\\users\\user\\miniconda3\\envs\\example_env\\lib\\site-packages (from tensorflow-intel==2.15.0->tensorflow) (1.6.3)\n",
      "Requirement already satisfied: flatbuffers>=23.5.26 in c:\\users\\user\\miniconda3\\envs\\example_env\\lib\\site-packages (from tensorflow-intel==2.15.0->tensorflow) (23.5.26)\n",
      "Requirement already satisfied: gast!=0.5.0,!=0.5.1,!=0.5.2,>=0.2.1 in c:\\users\\user\\miniconda3\\envs\\example_env\\lib\\site-packages (from tensorflow-intel==2.15.0->tensorflow) (0.5.4)\n",
      "Requirement already satisfied: google-pasta>=0.1.1 in c:\\users\\user\\miniconda3\\envs\\example_env\\lib\\site-packages (from tensorflow-intel==2.15.0->tensorflow) (0.2.0)\n",
      "Requirement already satisfied: h5py>=2.9.0 in c:\\users\\user\\miniconda3\\envs\\example_env\\lib\\site-packages (from tensorflow-intel==2.15.0->tensorflow) (3.10.0)\n",
      "Requirement already satisfied: libclang>=13.0.0 in c:\\users\\user\\miniconda3\\envs\\example_env\\lib\\site-packages (from tensorflow-intel==2.15.0->tensorflow) (16.0.6)\n",
      "Requirement already satisfied: ml-dtypes~=0.2.0 in c:\\users\\user\\miniconda3\\envs\\example_env\\lib\\site-packages (from tensorflow-intel==2.15.0->tensorflow) (0.2.0)\n",
      "Requirement already satisfied: numpy<2.0.0,>=1.23.5 in c:\\users\\user\\miniconda3\\envs\\example_env\\lib\\site-packages (from tensorflow-intel==2.15.0->tensorflow) (1.26.0)\n",
      "Requirement already satisfied: opt-einsum>=2.3.2 in c:\\users\\user\\miniconda3\\envs\\example_env\\lib\\site-packages (from tensorflow-intel==2.15.0->tensorflow) (3.3.0)\n",
      "Requirement already satisfied: packaging in c:\\users\\user\\miniconda3\\envs\\example_env\\lib\\site-packages (from tensorflow-intel==2.15.0->tensorflow) (23.1)\n",
      "Requirement already satisfied: protobuf!=4.21.0,!=4.21.1,!=4.21.2,!=4.21.3,!=4.21.4,!=4.21.5,<5.0.0dev,>=3.20.3 in c:\\users\\user\\miniconda3\\envs\\example_env\\lib\\site-packages (from tensorflow-intel==2.15.0->tensorflow) (4.23.4)\n",
      "Requirement already satisfied: setuptools in c:\\users\\user\\miniconda3\\envs\\example_env\\lib\\site-packages (from tensorflow-intel==2.15.0->tensorflow) (68.0.0)\n",
      "Requirement already satisfied: six>=1.12.0 in c:\\users\\user\\miniconda3\\envs\\example_env\\lib\\site-packages (from tensorflow-intel==2.15.0->tensorflow) (1.16.0)\n",
      "Requirement already satisfied: termcolor>=1.1.0 in c:\\users\\user\\miniconda3\\envs\\example_env\\lib\\site-packages (from tensorflow-intel==2.15.0->tensorflow) (2.4.0)\n",
      "Requirement already satisfied: typing-extensions>=3.6.6 in c:\\users\\user\\miniconda3\\envs\\example_env\\lib\\site-packages (from tensorflow-intel==2.15.0->tensorflow) (4.7.1)\n",
      "Requirement already satisfied: wrapt<1.15,>=1.11.0 in c:\\users\\user\\miniconda3\\envs\\example_env\\lib\\site-packages (from tensorflow-intel==2.15.0->tensorflow) (1.14.1)\n",
      "Requirement already satisfied: tensorflow-io-gcs-filesystem>=0.23.1 in c:\\users\\user\\miniconda3\\envs\\example_env\\lib\\site-packages (from tensorflow-intel==2.15.0->tensorflow) (0.31.0)\n",
      "Requirement already satisfied: grpcio<2.0,>=1.24.3 in c:\\users\\user\\miniconda3\\envs\\example_env\\lib\\site-packages (from tensorflow-intel==2.15.0->tensorflow) (1.60.0)\n",
      "Requirement already satisfied: tensorboard<2.16,>=2.15 in c:\\users\\user\\miniconda3\\envs\\example_env\\lib\\site-packages (from tensorflow-intel==2.15.0->tensorflow) (2.15.1)\n",
      "Requirement already satisfied: tensorflow-estimator<2.16,>=2.15.0 in c:\\users\\user\\miniconda3\\envs\\example_env\\lib\\site-packages (from tensorflow-intel==2.15.0->tensorflow) (2.15.0)\n",
      "Requirement already satisfied: keras<2.16,>=2.15.0 in c:\\users\\user\\miniconda3\\envs\\example_env\\lib\\site-packages (from tensorflow-intel==2.15.0->tensorflow) (2.15.0)\n",
      "Requirement already satisfied: wheel<1.0,>=0.23.0 in c:\\users\\user\\miniconda3\\envs\\example_env\\lib\\site-packages (from astunparse>=1.6.0->tensorflow-intel==2.15.0->tensorflow) (0.41.2)\n",
      "Requirement already satisfied: google-auth<3,>=1.6.3 in c:\\users\\user\\miniconda3\\envs\\example_env\\lib\\site-packages (from tensorboard<2.16,>=2.15->tensorflow-intel==2.15.0->tensorflow) (2.25.2)\n",
      "Requirement already satisfied: google-auth-oauthlib<2,>=0.5 in c:\\users\\user\\miniconda3\\envs\\example_env\\lib\\site-packages (from tensorboard<2.16,>=2.15->tensorflow-intel==2.15.0->tensorflow) (1.2.0)\n",
      "Requirement already satisfied: markdown>=2.6.8 in c:\\users\\user\\miniconda3\\envs\\example_env\\lib\\site-packages (from tensorboard<2.16,>=2.15->tensorflow-intel==2.15.0->tensorflow) (3.5.1)\n",
      "Requirement already satisfied: requests<3,>=2.21.0 in c:\\users\\user\\miniconda3\\envs\\example_env\\lib\\site-packages (from tensorboard<2.16,>=2.15->tensorflow-intel==2.15.0->tensorflow) (2.31.0)\n",
      "Requirement already satisfied: tensorboard-data-server<0.8.0,>=0.7.0 in c:\\users\\user\\miniconda3\\envs\\example_env\\lib\\site-packages (from tensorboard<2.16,>=2.15->tensorflow-intel==2.15.0->tensorflow) (0.7.2)\n",
      "Requirement already satisfied: werkzeug>=1.0.1 in c:\\users\\user\\miniconda3\\envs\\example_env\\lib\\site-packages (from tensorboard<2.16,>=2.15->tensorflow-intel==2.15.0->tensorflow) (3.0.1)\n",
      "Requirement already satisfied: cachetools<6.0,>=2.0.0 in c:\\users\\user\\miniconda3\\envs\\example_env\\lib\\site-packages (from google-auth<3,>=1.6.3->tensorboard<2.16,>=2.15->tensorflow-intel==2.15.0->tensorflow) (5.3.2)\n",
      "Requirement already satisfied: pyasn1-modules>=0.2.1 in c:\\users\\user\\miniconda3\\envs\\example_env\\lib\\site-packages (from google-auth<3,>=1.6.3->tensorboard<2.16,>=2.15->tensorflow-intel==2.15.0->tensorflow) (0.3.0)\n",
      "Requirement already satisfied: rsa<5,>=3.1.4 in c:\\users\\user\\miniconda3\\envs\\example_env\\lib\\site-packages (from google-auth<3,>=1.6.3->tensorboard<2.16,>=2.15->tensorflow-intel==2.15.0->tensorflow) (4.9)\n",
      "Requirement already satisfied: requests-oauthlib>=0.7.0 in c:\\users\\user\\miniconda3\\envs\\example_env\\lib\\site-packages (from google-auth-oauthlib<2,>=0.5->tensorboard<2.16,>=2.15->tensorflow-intel==2.15.0->tensorflow) (1.3.1)\n",
      "Requirement already satisfied: importlib-metadata>=4.4 in c:\\users\\user\\miniconda3\\envs\\example_env\\lib\\site-packages (from markdown>=2.6.8->tensorboard<2.16,>=2.15->tensorflow-intel==2.15.0->tensorflow) (6.0.0)\n",
      "Requirement already satisfied: charset-normalizer<4,>=2 in c:\\users\\user\\miniconda3\\envs\\example_env\\lib\\site-packages (from requests<3,>=2.21.0->tensorboard<2.16,>=2.15->tensorflow-intel==2.15.0->tensorflow) (2.0.4)\n",
      "Requirement already satisfied: idna<4,>=2.5 in c:\\users\\user\\miniconda3\\envs\\example_env\\lib\\site-packages (from requests<3,>=2.21.0->tensorboard<2.16,>=2.15->tensorflow-intel==2.15.0->tensorflow) (3.4)\n",
      "Requirement already satisfied: urllib3<3,>=1.21.1 in c:\\users\\user\\miniconda3\\envs\\example_env\\lib\\site-packages (from requests<3,>=2.21.0->tensorboard<2.16,>=2.15->tensorflow-intel==2.15.0->tensorflow) (1.26.18)\n",
      "Requirement already satisfied: certifi>=2017.4.17 in c:\\users\\user\\miniconda3\\envs\\example_env\\lib\\site-packages (from requests<3,>=2.21.0->tensorboard<2.16,>=2.15->tensorflow-intel==2.15.0->tensorflow) (2023.7.22)\n",
      "Requirement already satisfied: MarkupSafe>=2.1.1 in c:\\users\\user\\miniconda3\\envs\\example_env\\lib\\site-packages (from werkzeug>=1.0.1->tensorboard<2.16,>=2.15->tensorflow-intel==2.15.0->tensorflow) (2.1.1)\n",
      "Requirement already satisfied: zipp>=0.5 in c:\\users\\user\\miniconda3\\envs\\example_env\\lib\\site-packages (from importlib-metadata>=4.4->markdown>=2.6.8->tensorboard<2.16,>=2.15->tensorflow-intel==2.15.0->tensorflow) (3.11.0)\n",
      "Requirement already satisfied: pyasn1<0.6.0,>=0.4.6 in c:\\users\\user\\miniconda3\\envs\\example_env\\lib\\site-packages (from pyasn1-modules>=0.2.1->google-auth<3,>=1.6.3->tensorboard<2.16,>=2.15->tensorflow-intel==2.15.0->tensorflow) (0.5.1)\n",
      "Requirement already satisfied: oauthlib>=3.0.0 in c:\\users\\user\\miniconda3\\envs\\example_env\\lib\\site-packages (from requests-oauthlib>=0.7.0->google-auth-oauthlib<2,>=0.5->tensorboard<2.16,>=2.15->tensorflow-intel==2.15.0->tensorflow) (3.2.2)\n",
      "Model: \"model\"\n"
     ]
    },
    {
     "name": "stdout",
     "output_type": "stream",
     "text": [
      "__________________________________________________________________________________________________\n",
      " Layer (type)                Output Shape                 Param #   Connected to                  \n",
      "==================================================================================================\n",
      " input_1 (InputLayer)        [(None, 17)]                 0         []                            \n",
      "                                                                                                  \n",
      " input_2 (InputLayer)        [(None, 300)]                0         []                            \n",
      "                                                                                                  \n",
      " sequential_4 (Sequential)   (None, 32)                   4252      ['input_1[0][0]']             \n",
      "                                                                                                  \n",
      " sequential_5 (Sequential)   (None, 32)                   114080    ['input_2[0][0]']             \n",
      "                                                                                                  \n",
      " tf.math.l2_normalize (TFOp  (None, 32)                   0         ['sequential_4[0][0]']        \n",
      " Lambda)                                                                                          \n",
      "                                                                                                  \n",
      " tf.math.l2_normalize_1 (TF  (None, 32)                   0         ['sequential_5[0][0]']        \n",
      " OpLambda)                                                                                        \n",
      "                                                                                                  \n",
      " dot (Dot)                   (None, 1)                    0         ['tf.math.l2_normalize[0][0]',\n",
      "                                                                     'tf.math.l2_normalize_1[0][0]\n",
      "                                                                    ']                            \n",
      "                                                                                                  \n",
      "==================================================================================================\n",
      "Total params: 118332 (462.23 KB)\n",
      "Trainable params: 118332 (462.23 KB)\n",
      "Non-trainable params: 0 (0.00 Byte)\n",
      "__________________________________________________________________________________________________\n"
     ]
    }
   ],
   "source": [
    "!pip install tensorflow\n",
    "import tensorflow as tf\n",
    "from tensorflow import keras\n",
    "\n",
    "num_outputs = 32\n",
    "tf.random.set_seed(1)\n",
    "user_NN = tf.keras.models.Sequential([    \n",
    "    tf.keras.layers.Dense(50, activation='relu'),\n",
    "    tf.keras.layers.Dense(40, activation='relu'),\n",
    "    tf.keras.layers.Dense(num_outputs) \n",
    "])\n",
    "\n",
    "item_NN = tf.keras.models.Sequential([   \n",
    "    tf.keras.layers.Dense(256, activation='relu'),\n",
    "    tf.keras.layers.Dense(128, activation='relu'),\n",
    "    tf.keras.layers.Dense(num_outputs)\n",
    "])\n",
    "\n",
    "# 사용자 입력을 생성\n",
    "input_user = tf.keras.layers.Input(shape=(train_customer_features.shape[1]))\n",
    "vu = user_NN(input_user)\n",
    "vu = tf.linalg.l2_normalize(vu, axis=1)\n",
    "\n",
    "# item 입력 생성\n",
    "input_item = tf.keras.layers.Input(shape=(train_article_features.shape[1]))\n",
    "vm = item_NN(input_item)\n",
    "vm = tf.linalg.l2_normalize(vm, axis=1)\n",
    "\n",
    "# 두 벡터 vu와 vm의 내적 계산\n",
    "output = tf.keras.layers.Dot(axes=1)([vu, vm])\n",
    "\n",
    "# 모델의 input과 output \n",
    "model = tf.keras.Model([input_user, input_item], output)\n",
    "\n",
    "model.summary()"
   ]
  },
  {
   "cell_type": "code",
   "execution_count": 73,
   "metadata": {},
   "outputs": [],
   "source": [
    "class SaveBestModel(tf.keras.callbacks.Callback):\n",
    "    def __init__(self, save_best_metric='val_loss', this_max=False):\n",
    "        self.save_best_metric = save_best_metric\n",
    "        self.max = this_max\n",
    "        if this_max:\n",
    "            self.best = float('-inf')\n",
    "        else:\n",
    "            self.best = float('inf')\n",
    "\n",
    "    def on_epoch_end(self, epoch, logs=None):\n",
    "        metric_value = logs[self.save_best_metric]\n",
    "        if self.max:\n",
    "            if metric_value > self.best:\n",
    "                self.best = metric_value\n",
    "                self.best_weights = self.model.get_weights()\n",
    "\n",
    "        else:\n",
    "            if metric_value < self.best:\n",
    "                self.best = metric_value\n",
    "                self.best_weights= self.model.get_weights()\n",
    "                \n",
    "save_best_model = SaveBestModel()"
   ]
  },
  {
   "cell_type": "code",
   "execution_count": 74,
   "metadata": {},
   "outputs": [],
   "source": [
    "tf.random.set_seed(1)\n",
    "cost_fn = tf.keras.losses.MeanSquaredError()\n",
    "opt = keras.optimizers.Adam(learning_rate=0.01)\n",
    "model.compile(optimizer=opt,\n",
    "              loss=cost_fn)"
   ]
  },
  {
   "cell_type": "code",
   "execution_count": 75,
   "metadata": {
    "scrolled": true
   },
   "outputs": [
    {
     "name": "stdout",
     "output_type": "stream",
     "text": [
      "Epoch 1/5\n",
      "WARNING:tensorflow:From C:\\Users\\USER\\miniconda3\\envs\\example_env\\lib\\site-packages\\keras\\src\\utils\\tf_utils.py:492: The name tf.ragged.RaggedTensorValue is deprecated. Please use tf.compat.v1.ragged.RaggedTensorValue instead.\n",
      "\n",
      "60378/60378 [==============================] - 311s 5ms/step - loss: 0.0680 - val_loss: 0.0672\n",
      "Epoch 2/5\n",
      "17799/60378 [=======>......................] - ETA: 2:55 - loss: 0.0648"
     ]
    },
    {
     "ename": "KeyboardInterrupt",
     "evalue": "",
     "output_type": "error",
     "traceback": [
      "\u001b[1;31m---------------------------------------------------------------------------\u001b[0m",
      "\u001b[1;31mKeyboardInterrupt\u001b[0m                         Traceback (most recent call last)",
      "Cell \u001b[1;32mIn[75], line 2\u001b[0m\n\u001b[0;32m      1\u001b[0m tf\u001b[38;5;241m.\u001b[39mrandom\u001b[38;5;241m.\u001b[39mset_seed(\u001b[38;5;241m1\u001b[39m)\n\u001b[1;32m----> 2\u001b[0m \u001b[43mmodel\u001b[49m\u001b[38;5;241;43m.\u001b[39;49m\u001b[43mfit\u001b[49m\u001b[43m(\u001b[49m\u001b[43m[\u001b[49m\u001b[43mtrain_customer_features\u001b[49m\u001b[43m,\u001b[49m\u001b[43m \u001b[49m\u001b[43mtrain_article_features\u001b[49m\u001b[43m]\u001b[49m\u001b[43m,\u001b[49m\u001b[43m \u001b[49m\u001b[43mtrain_target\u001b[49m\u001b[43m,\u001b[49m\u001b[43m \u001b[49m\u001b[43mepochs\u001b[49m\u001b[38;5;241;43m=\u001b[39;49m\u001b[38;5;241;43m5\u001b[39;49m\u001b[43m,\u001b[49m\u001b[43m \u001b[49m\u001b[43m\\\u001b[49m\n\u001b[0;32m      3\u001b[0m \u001b[43m          \u001b[49m\u001b[43mvalidation_data\u001b[49m\u001b[38;5;241;43m=\u001b[39;49m\u001b[43m(\u001b[49m\u001b[43m[\u001b[49m\u001b[43mtest_customer_features\u001b[49m\u001b[43m,\u001b[49m\u001b[43m \u001b[49m\u001b[43mtest_article_features\u001b[49m\u001b[43m]\u001b[49m\u001b[43m,\u001b[49m\u001b[43m \u001b[49m\u001b[43mtest_target\u001b[49m\u001b[43m)\u001b[49m\u001b[43m,\u001b[49m\u001b[43m \u001b[49m\u001b[43m\\\u001b[49m\n\u001b[0;32m      4\u001b[0m \u001b[43m          \u001b[49m\u001b[43mcallbacks\u001b[49m\u001b[38;5;241;43m=\u001b[39;49m\u001b[43m[\u001b[49m\u001b[43msave_best_model\u001b[49m\u001b[43m]\u001b[49m\u001b[43m)\u001b[49m\n\u001b[0;32m      5\u001b[0m \u001b[38;5;66;03m#set best weigts\u001b[39;00m\n\u001b[0;32m      6\u001b[0m model\u001b[38;5;241m.\u001b[39mset_weights(save_best_model\u001b[38;5;241m.\u001b[39mbest_weights)\n",
      "File \u001b[1;32m~\\miniconda3\\envs\\example_env\\lib\\site-packages\\keras\\src\\utils\\traceback_utils.py:65\u001b[0m, in \u001b[0;36mfilter_traceback.<locals>.error_handler\u001b[1;34m(*args, **kwargs)\u001b[0m\n\u001b[0;32m     63\u001b[0m filtered_tb \u001b[38;5;241m=\u001b[39m \u001b[38;5;28;01mNone\u001b[39;00m\n\u001b[0;32m     64\u001b[0m \u001b[38;5;28;01mtry\u001b[39;00m:\n\u001b[1;32m---> 65\u001b[0m     \u001b[38;5;28;01mreturn\u001b[39;00m fn(\u001b[38;5;241m*\u001b[39margs, \u001b[38;5;241m*\u001b[39m\u001b[38;5;241m*\u001b[39mkwargs)\n\u001b[0;32m     66\u001b[0m \u001b[38;5;28;01mexcept\u001b[39;00m \u001b[38;5;167;01mException\u001b[39;00m \u001b[38;5;28;01mas\u001b[39;00m e:\n\u001b[0;32m     67\u001b[0m     filtered_tb \u001b[38;5;241m=\u001b[39m _process_traceback_frames(e\u001b[38;5;241m.\u001b[39m__traceback__)\n",
      "File \u001b[1;32m~\\miniconda3\\envs\\example_env\\lib\\site-packages\\keras\\src\\engine\\training.py:1807\u001b[0m, in \u001b[0;36mModel.fit\u001b[1;34m(self, x, y, batch_size, epochs, verbose, callbacks, validation_split, validation_data, shuffle, class_weight, sample_weight, initial_epoch, steps_per_epoch, validation_steps, validation_batch_size, validation_freq, max_queue_size, workers, use_multiprocessing)\u001b[0m\n\u001b[0;32m   1799\u001b[0m \u001b[38;5;28;01mwith\u001b[39;00m tf\u001b[38;5;241m.\u001b[39mprofiler\u001b[38;5;241m.\u001b[39mexperimental\u001b[38;5;241m.\u001b[39mTrace(\n\u001b[0;32m   1800\u001b[0m     \u001b[38;5;124m\"\u001b[39m\u001b[38;5;124mtrain\u001b[39m\u001b[38;5;124m\"\u001b[39m,\n\u001b[0;32m   1801\u001b[0m     epoch_num\u001b[38;5;241m=\u001b[39mepoch,\n\u001b[1;32m   (...)\u001b[0m\n\u001b[0;32m   1804\u001b[0m     _r\u001b[38;5;241m=\u001b[39m\u001b[38;5;241m1\u001b[39m,\n\u001b[0;32m   1805\u001b[0m ):\n\u001b[0;32m   1806\u001b[0m     callbacks\u001b[38;5;241m.\u001b[39mon_train_batch_begin(step)\n\u001b[1;32m-> 1807\u001b[0m     tmp_logs \u001b[38;5;241m=\u001b[39m \u001b[38;5;28;43mself\u001b[39;49m\u001b[38;5;241;43m.\u001b[39;49m\u001b[43mtrain_function\u001b[49m\u001b[43m(\u001b[49m\u001b[43miterator\u001b[49m\u001b[43m)\u001b[49m\n\u001b[0;32m   1808\u001b[0m     \u001b[38;5;28;01mif\u001b[39;00m data_handler\u001b[38;5;241m.\u001b[39mshould_sync:\n\u001b[0;32m   1809\u001b[0m         context\u001b[38;5;241m.\u001b[39masync_wait()\n",
      "File \u001b[1;32m~\\miniconda3\\envs\\example_env\\lib\\site-packages\\tensorflow\\python\\util\\traceback_utils.py:150\u001b[0m, in \u001b[0;36mfilter_traceback.<locals>.error_handler\u001b[1;34m(*args, **kwargs)\u001b[0m\n\u001b[0;32m    148\u001b[0m filtered_tb \u001b[38;5;241m=\u001b[39m \u001b[38;5;28;01mNone\u001b[39;00m\n\u001b[0;32m    149\u001b[0m \u001b[38;5;28;01mtry\u001b[39;00m:\n\u001b[1;32m--> 150\u001b[0m   \u001b[38;5;28;01mreturn\u001b[39;00m fn(\u001b[38;5;241m*\u001b[39margs, \u001b[38;5;241m*\u001b[39m\u001b[38;5;241m*\u001b[39mkwargs)\n\u001b[0;32m    151\u001b[0m \u001b[38;5;28;01mexcept\u001b[39;00m \u001b[38;5;167;01mException\u001b[39;00m \u001b[38;5;28;01mas\u001b[39;00m e:\n\u001b[0;32m    152\u001b[0m   filtered_tb \u001b[38;5;241m=\u001b[39m _process_traceback_frames(e\u001b[38;5;241m.\u001b[39m__traceback__)\n",
      "File \u001b[1;32m~\\miniconda3\\envs\\example_env\\lib\\site-packages\\tensorflow\\python\\eager\\polymorphic_function\\polymorphic_function.py:832\u001b[0m, in \u001b[0;36mFunction.__call__\u001b[1;34m(self, *args, **kwds)\u001b[0m\n\u001b[0;32m    829\u001b[0m compiler \u001b[38;5;241m=\u001b[39m \u001b[38;5;124m\"\u001b[39m\u001b[38;5;124mxla\u001b[39m\u001b[38;5;124m\"\u001b[39m \u001b[38;5;28;01mif\u001b[39;00m \u001b[38;5;28mself\u001b[39m\u001b[38;5;241m.\u001b[39m_jit_compile \u001b[38;5;28;01melse\u001b[39;00m \u001b[38;5;124m\"\u001b[39m\u001b[38;5;124mnonXla\u001b[39m\u001b[38;5;124m\"\u001b[39m\n\u001b[0;32m    831\u001b[0m \u001b[38;5;28;01mwith\u001b[39;00m OptionalXlaContext(\u001b[38;5;28mself\u001b[39m\u001b[38;5;241m.\u001b[39m_jit_compile):\n\u001b[1;32m--> 832\u001b[0m   result \u001b[38;5;241m=\u001b[39m \u001b[38;5;28mself\u001b[39m\u001b[38;5;241m.\u001b[39m_call(\u001b[38;5;241m*\u001b[39margs, \u001b[38;5;241m*\u001b[39m\u001b[38;5;241m*\u001b[39mkwds)\n\u001b[0;32m    834\u001b[0m new_tracing_count \u001b[38;5;241m=\u001b[39m \u001b[38;5;28mself\u001b[39m\u001b[38;5;241m.\u001b[39mexperimental_get_tracing_count()\n\u001b[0;32m    835\u001b[0m without_tracing \u001b[38;5;241m=\u001b[39m (tracing_count \u001b[38;5;241m==\u001b[39m new_tracing_count)\n",
      "File \u001b[1;32m~\\miniconda3\\envs\\example_env\\lib\\site-packages\\tensorflow\\python\\eager\\polymorphic_function\\polymorphic_function.py:868\u001b[0m, in \u001b[0;36mFunction._call\u001b[1;34m(self, *args, **kwds)\u001b[0m\n\u001b[0;32m    865\u001b[0m   \u001b[38;5;28mself\u001b[39m\u001b[38;5;241m.\u001b[39m_lock\u001b[38;5;241m.\u001b[39mrelease()\n\u001b[0;32m    866\u001b[0m   \u001b[38;5;66;03m# In this case we have created variables on the first call, so we run the\u001b[39;00m\n\u001b[0;32m    867\u001b[0m   \u001b[38;5;66;03m# defunned version which is guaranteed to never create variables.\u001b[39;00m\n\u001b[1;32m--> 868\u001b[0m   \u001b[38;5;28;01mreturn\u001b[39;00m \u001b[43mtracing_compilation\u001b[49m\u001b[38;5;241;43m.\u001b[39;49m\u001b[43mcall_function\u001b[49m\u001b[43m(\u001b[49m\n\u001b[0;32m    869\u001b[0m \u001b[43m      \u001b[49m\u001b[43margs\u001b[49m\u001b[43m,\u001b[49m\u001b[43m \u001b[49m\u001b[43mkwds\u001b[49m\u001b[43m,\u001b[49m\u001b[43m \u001b[49m\u001b[38;5;28;43mself\u001b[39;49m\u001b[38;5;241;43m.\u001b[39;49m\u001b[43m_no_variable_creation_config\u001b[49m\n\u001b[0;32m    870\u001b[0m \u001b[43m  \u001b[49m\u001b[43m)\u001b[49m\n\u001b[0;32m    871\u001b[0m \u001b[38;5;28;01melif\u001b[39;00m \u001b[38;5;28mself\u001b[39m\u001b[38;5;241m.\u001b[39m_variable_creation_config \u001b[38;5;129;01mis\u001b[39;00m \u001b[38;5;129;01mnot\u001b[39;00m \u001b[38;5;28;01mNone\u001b[39;00m:\n\u001b[0;32m    872\u001b[0m   \u001b[38;5;66;03m# Release the lock early so that multiple threads can perform the call\u001b[39;00m\n\u001b[0;32m    873\u001b[0m   \u001b[38;5;66;03m# in parallel.\u001b[39;00m\n\u001b[0;32m    874\u001b[0m   \u001b[38;5;28mself\u001b[39m\u001b[38;5;241m.\u001b[39m_lock\u001b[38;5;241m.\u001b[39mrelease()\n",
      "File \u001b[1;32m~\\miniconda3\\envs\\example_env\\lib\\site-packages\\tensorflow\\python\\eager\\polymorphic_function\\tracing_compilation.py:139\u001b[0m, in \u001b[0;36mcall_function\u001b[1;34m(args, kwargs, tracing_options)\u001b[0m\n\u001b[0;32m    137\u001b[0m bound_args \u001b[38;5;241m=\u001b[39m function\u001b[38;5;241m.\u001b[39mfunction_type\u001b[38;5;241m.\u001b[39mbind(\u001b[38;5;241m*\u001b[39margs, \u001b[38;5;241m*\u001b[39m\u001b[38;5;241m*\u001b[39mkwargs)\n\u001b[0;32m    138\u001b[0m flat_inputs \u001b[38;5;241m=\u001b[39m function\u001b[38;5;241m.\u001b[39mfunction_type\u001b[38;5;241m.\u001b[39munpack_inputs(bound_args)\n\u001b[1;32m--> 139\u001b[0m \u001b[38;5;28;01mreturn\u001b[39;00m \u001b[43mfunction\u001b[49m\u001b[38;5;241;43m.\u001b[39;49m\u001b[43m_call_flat\u001b[49m\u001b[43m(\u001b[49m\u001b[43m  \u001b[49m\u001b[38;5;66;43;03m# pylint: disable=protected-access\u001b[39;49;00m\n\u001b[0;32m    140\u001b[0m \u001b[43m    \u001b[49m\u001b[43mflat_inputs\u001b[49m\u001b[43m,\u001b[49m\u001b[43m \u001b[49m\u001b[43mcaptured_inputs\u001b[49m\u001b[38;5;241;43m=\u001b[39;49m\u001b[43mfunction\u001b[49m\u001b[38;5;241;43m.\u001b[39;49m\u001b[43mcaptured_inputs\u001b[49m\n\u001b[0;32m    141\u001b[0m \u001b[43m\u001b[49m\u001b[43m)\u001b[49m\n",
      "File \u001b[1;32m~\\miniconda3\\envs\\example_env\\lib\\site-packages\\tensorflow\\python\\eager\\polymorphic_function\\concrete_function.py:1323\u001b[0m, in \u001b[0;36mConcreteFunction._call_flat\u001b[1;34m(self, tensor_inputs, captured_inputs)\u001b[0m\n\u001b[0;32m   1319\u001b[0m possible_gradient_type \u001b[38;5;241m=\u001b[39m gradients_util\u001b[38;5;241m.\u001b[39mPossibleTapeGradientTypes(args)\n\u001b[0;32m   1320\u001b[0m \u001b[38;5;28;01mif\u001b[39;00m (possible_gradient_type \u001b[38;5;241m==\u001b[39m gradients_util\u001b[38;5;241m.\u001b[39mPOSSIBLE_GRADIENT_TYPES_NONE\n\u001b[0;32m   1321\u001b[0m     \u001b[38;5;129;01mand\u001b[39;00m executing_eagerly):\n\u001b[0;32m   1322\u001b[0m   \u001b[38;5;66;03m# No tape is watching; skip to running the function.\u001b[39;00m\n\u001b[1;32m-> 1323\u001b[0m   \u001b[38;5;28;01mreturn\u001b[39;00m \u001b[38;5;28;43mself\u001b[39;49m\u001b[38;5;241;43m.\u001b[39;49m\u001b[43m_inference_function\u001b[49m\u001b[38;5;241;43m.\u001b[39;49m\u001b[43mcall_preflattened\u001b[49m\u001b[43m(\u001b[49m\u001b[43margs\u001b[49m\u001b[43m)\u001b[49m\n\u001b[0;32m   1324\u001b[0m forward_backward \u001b[38;5;241m=\u001b[39m \u001b[38;5;28mself\u001b[39m\u001b[38;5;241m.\u001b[39m_select_forward_and_backward_functions(\n\u001b[0;32m   1325\u001b[0m     args,\n\u001b[0;32m   1326\u001b[0m     possible_gradient_type,\n\u001b[0;32m   1327\u001b[0m     executing_eagerly)\n\u001b[0;32m   1328\u001b[0m forward_function, args_with_tangents \u001b[38;5;241m=\u001b[39m forward_backward\u001b[38;5;241m.\u001b[39mforward()\n",
      "File \u001b[1;32m~\\miniconda3\\envs\\example_env\\lib\\site-packages\\tensorflow\\python\\eager\\polymorphic_function\\atomic_function.py:216\u001b[0m, in \u001b[0;36mAtomicFunction.call_preflattened\u001b[1;34m(self, args)\u001b[0m\n\u001b[0;32m    214\u001b[0m \u001b[38;5;28;01mdef\u001b[39;00m \u001b[38;5;21mcall_preflattened\u001b[39m(\u001b[38;5;28mself\u001b[39m, args: Sequence[core\u001b[38;5;241m.\u001b[39mTensor]) \u001b[38;5;241m-\u001b[39m\u001b[38;5;241m>\u001b[39m Any:\n\u001b[0;32m    215\u001b[0m \u001b[38;5;250m  \u001b[39m\u001b[38;5;124;03m\"\"\"Calls with flattened tensor inputs and returns the structured output.\"\"\"\u001b[39;00m\n\u001b[1;32m--> 216\u001b[0m   flat_outputs \u001b[38;5;241m=\u001b[39m \u001b[38;5;28;43mself\u001b[39;49m\u001b[38;5;241;43m.\u001b[39;49m\u001b[43mcall_flat\u001b[49m\u001b[43m(\u001b[49m\u001b[38;5;241;43m*\u001b[39;49m\u001b[43margs\u001b[49m\u001b[43m)\u001b[49m\n\u001b[0;32m    217\u001b[0m   \u001b[38;5;28;01mreturn\u001b[39;00m \u001b[38;5;28mself\u001b[39m\u001b[38;5;241m.\u001b[39mfunction_type\u001b[38;5;241m.\u001b[39mpack_output(flat_outputs)\n",
      "File \u001b[1;32m~\\miniconda3\\envs\\example_env\\lib\\site-packages\\tensorflow\\python\\eager\\polymorphic_function\\atomic_function.py:251\u001b[0m, in \u001b[0;36mAtomicFunction.call_flat\u001b[1;34m(self, *args)\u001b[0m\n\u001b[0;32m    249\u001b[0m \u001b[38;5;28;01mwith\u001b[39;00m record\u001b[38;5;241m.\u001b[39mstop_recording():\n\u001b[0;32m    250\u001b[0m   \u001b[38;5;28;01mif\u001b[39;00m \u001b[38;5;28mself\u001b[39m\u001b[38;5;241m.\u001b[39m_bound_context\u001b[38;5;241m.\u001b[39mexecuting_eagerly():\n\u001b[1;32m--> 251\u001b[0m     outputs \u001b[38;5;241m=\u001b[39m \u001b[38;5;28;43mself\u001b[39;49m\u001b[38;5;241;43m.\u001b[39;49m\u001b[43m_bound_context\u001b[49m\u001b[38;5;241;43m.\u001b[39;49m\u001b[43mcall_function\u001b[49m\u001b[43m(\u001b[49m\n\u001b[0;32m    252\u001b[0m \u001b[43m        \u001b[49m\u001b[38;5;28;43mself\u001b[39;49m\u001b[38;5;241;43m.\u001b[39;49m\u001b[43mname\u001b[49m\u001b[43m,\u001b[49m\n\u001b[0;32m    253\u001b[0m \u001b[43m        \u001b[49m\u001b[38;5;28;43mlist\u001b[39;49m\u001b[43m(\u001b[49m\u001b[43margs\u001b[49m\u001b[43m)\u001b[49m\u001b[43m,\u001b[49m\n\u001b[0;32m    254\u001b[0m \u001b[43m        \u001b[49m\u001b[38;5;28;43mlen\u001b[39;49m\u001b[43m(\u001b[49m\u001b[38;5;28;43mself\u001b[39;49m\u001b[38;5;241;43m.\u001b[39;49m\u001b[43mfunction_type\u001b[49m\u001b[38;5;241;43m.\u001b[39;49m\u001b[43mflat_outputs\u001b[49m\u001b[43m)\u001b[49m\u001b[43m,\u001b[49m\n\u001b[0;32m    255\u001b[0m \u001b[43m    \u001b[49m\u001b[43m)\u001b[49m\n\u001b[0;32m    256\u001b[0m   \u001b[38;5;28;01melse\u001b[39;00m:\n\u001b[0;32m    257\u001b[0m     outputs \u001b[38;5;241m=\u001b[39m make_call_op_in_graph(\n\u001b[0;32m    258\u001b[0m         \u001b[38;5;28mself\u001b[39m,\n\u001b[0;32m    259\u001b[0m         \u001b[38;5;28mlist\u001b[39m(args),\n\u001b[0;32m    260\u001b[0m         \u001b[38;5;28mself\u001b[39m\u001b[38;5;241m.\u001b[39m_bound_context\u001b[38;5;241m.\u001b[39mfunction_call_options\u001b[38;5;241m.\u001b[39mas_attrs(),\n\u001b[0;32m    261\u001b[0m     )\n",
      "File \u001b[1;32m~\\miniconda3\\envs\\example_env\\lib\\site-packages\\tensorflow\\python\\eager\\context.py:1486\u001b[0m, in \u001b[0;36mContext.call_function\u001b[1;34m(self, name, tensor_inputs, num_outputs)\u001b[0m\n\u001b[0;32m   1484\u001b[0m cancellation_context \u001b[38;5;241m=\u001b[39m cancellation\u001b[38;5;241m.\u001b[39mcontext()\n\u001b[0;32m   1485\u001b[0m \u001b[38;5;28;01mif\u001b[39;00m cancellation_context \u001b[38;5;129;01mis\u001b[39;00m \u001b[38;5;28;01mNone\u001b[39;00m:\n\u001b[1;32m-> 1486\u001b[0m   outputs \u001b[38;5;241m=\u001b[39m \u001b[43mexecute\u001b[49m\u001b[38;5;241;43m.\u001b[39;49m\u001b[43mexecute\u001b[49m\u001b[43m(\u001b[49m\n\u001b[0;32m   1487\u001b[0m \u001b[43m      \u001b[49m\u001b[43mname\u001b[49m\u001b[38;5;241;43m.\u001b[39;49m\u001b[43mdecode\u001b[49m\u001b[43m(\u001b[49m\u001b[38;5;124;43m\"\u001b[39;49m\u001b[38;5;124;43mutf-8\u001b[39;49m\u001b[38;5;124;43m\"\u001b[39;49m\u001b[43m)\u001b[49m\u001b[43m,\u001b[49m\n\u001b[0;32m   1488\u001b[0m \u001b[43m      \u001b[49m\u001b[43mnum_outputs\u001b[49m\u001b[38;5;241;43m=\u001b[39;49m\u001b[43mnum_outputs\u001b[49m\u001b[43m,\u001b[49m\n\u001b[0;32m   1489\u001b[0m \u001b[43m      \u001b[49m\u001b[43minputs\u001b[49m\u001b[38;5;241;43m=\u001b[39;49m\u001b[43mtensor_inputs\u001b[49m\u001b[43m,\u001b[49m\n\u001b[0;32m   1490\u001b[0m \u001b[43m      \u001b[49m\u001b[43mattrs\u001b[49m\u001b[38;5;241;43m=\u001b[39;49m\u001b[43mattrs\u001b[49m\u001b[43m,\u001b[49m\n\u001b[0;32m   1491\u001b[0m \u001b[43m      \u001b[49m\u001b[43mctx\u001b[49m\u001b[38;5;241;43m=\u001b[39;49m\u001b[38;5;28;43mself\u001b[39;49m\u001b[43m,\u001b[49m\n\u001b[0;32m   1492\u001b[0m \u001b[43m  \u001b[49m\u001b[43m)\u001b[49m\n\u001b[0;32m   1493\u001b[0m \u001b[38;5;28;01melse\u001b[39;00m:\n\u001b[0;32m   1494\u001b[0m   outputs \u001b[38;5;241m=\u001b[39m execute\u001b[38;5;241m.\u001b[39mexecute_with_cancellation(\n\u001b[0;32m   1495\u001b[0m       name\u001b[38;5;241m.\u001b[39mdecode(\u001b[38;5;124m\"\u001b[39m\u001b[38;5;124mutf-8\u001b[39m\u001b[38;5;124m\"\u001b[39m),\n\u001b[0;32m   1496\u001b[0m       num_outputs\u001b[38;5;241m=\u001b[39mnum_outputs,\n\u001b[1;32m   (...)\u001b[0m\n\u001b[0;32m   1500\u001b[0m       cancellation_manager\u001b[38;5;241m=\u001b[39mcancellation_context,\n\u001b[0;32m   1501\u001b[0m   )\n",
      "File \u001b[1;32m~\\miniconda3\\envs\\example_env\\lib\\site-packages\\tensorflow\\python\\eager\\execute.py:53\u001b[0m, in \u001b[0;36mquick_execute\u001b[1;34m(op_name, num_outputs, inputs, attrs, ctx, name)\u001b[0m\n\u001b[0;32m     51\u001b[0m \u001b[38;5;28;01mtry\u001b[39;00m:\n\u001b[0;32m     52\u001b[0m   ctx\u001b[38;5;241m.\u001b[39mensure_initialized()\n\u001b[1;32m---> 53\u001b[0m   tensors \u001b[38;5;241m=\u001b[39m \u001b[43mpywrap_tfe\u001b[49m\u001b[38;5;241;43m.\u001b[39;49m\u001b[43mTFE_Py_Execute\u001b[49m\u001b[43m(\u001b[49m\u001b[43mctx\u001b[49m\u001b[38;5;241;43m.\u001b[39;49m\u001b[43m_handle\u001b[49m\u001b[43m,\u001b[49m\u001b[43m \u001b[49m\u001b[43mdevice_name\u001b[49m\u001b[43m,\u001b[49m\u001b[43m \u001b[49m\u001b[43mop_name\u001b[49m\u001b[43m,\u001b[49m\n\u001b[0;32m     54\u001b[0m \u001b[43m                                      \u001b[49m\u001b[43minputs\u001b[49m\u001b[43m,\u001b[49m\u001b[43m \u001b[49m\u001b[43mattrs\u001b[49m\u001b[43m,\u001b[49m\u001b[43m \u001b[49m\u001b[43mnum_outputs\u001b[49m\u001b[43m)\u001b[49m\n\u001b[0;32m     55\u001b[0m \u001b[38;5;28;01mexcept\u001b[39;00m core\u001b[38;5;241m.\u001b[39m_NotOkStatusException \u001b[38;5;28;01mas\u001b[39;00m e:\n\u001b[0;32m     56\u001b[0m   \u001b[38;5;28;01mif\u001b[39;00m name \u001b[38;5;129;01mis\u001b[39;00m \u001b[38;5;129;01mnot\u001b[39;00m \u001b[38;5;28;01mNone\u001b[39;00m:\n",
      "\u001b[1;31mKeyboardInterrupt\u001b[0m: "
     ]
    }
   ],
   "source": [
    "tf.random.set_seed(1)\n",
    "model.fit([train_customer_features, train_article_features], train_target, epochs=5, \\\n",
    "          validation_data=([test_customer_features, test_article_features], test_target), \\\n",
    "          callbacks=[save_best_model])\n",
    "#모델 가중치 설정\n",
    "model.set_weights(save_best_model.best_weights)"
   ]
  },
  {
   "cell_type": "code",
   "execution_count": 76,
   "metadata": {},
   "outputs": [
    {
     "data": {
      "text/plain": [
       "1402"
      ]
     },
     "execution_count": 76,
     "metadata": {},
     "output_type": "execute_result"
    }
   ],
   "source": [
    "del train_customer_features\n",
    "del train_article_features\n",
    "del train_target\n",
    "import gc\n",
    "gc.collect()"
   ]
  },
  {
   "cell_type": "markdown",
   "metadata": {},
   "source": [
    "## Predict on single example"
   ]
  },
  {
   "cell_type": "code",
   "execution_count": 77,
   "metadata": {},
   "outputs": [
    {
     "data": {
      "text/html": [
       "<div>\n",
       "<style scoped>\n",
       "    .dataframe tbody tr th:only-of-type {\n",
       "        vertical-align: middle;\n",
       "    }\n",
       "\n",
       "    .dataframe tbody tr th {\n",
       "        vertical-align: top;\n",
       "    }\n",
       "\n",
       "    .dataframe thead th {\n",
       "        text-align: right;\n",
       "    }\n",
       "</style>\n",
       "<table border=\"1\" class=\"dataframe\">\n",
       "  <thead>\n",
       "    <tr style=\"text-align: right;\">\n",
       "      <th></th>\n",
       "      <th>customer_id</th>\n",
       "      <th>article_id</th>\n",
       "      <th>target</th>\n",
       "    </tr>\n",
       "  </thead>\n",
       "  <tbody>\n",
       "    <tr>\n",
       "      <th>0</th>\n",
       "      <td>0003e867a930d0d6842f923d6ba7c9b77aba33fe2a0fbf...</td>\n",
       "      <td>827487003</td>\n",
       "      <td>1</td>\n",
       "    </tr>\n",
       "    <tr>\n",
       "      <th>1</th>\n",
       "      <td>0003e867a930d0d6842f923d6ba7c9b77aba33fe2a0fbf...</td>\n",
       "      <td>612778003</td>\n",
       "      <td>0</td>\n",
       "    </tr>\n",
       "    <tr>\n",
       "      <th>2</th>\n",
       "      <td>0003e867a930d0d6842f923d6ba7c9b77aba33fe2a0fbf...</td>\n",
       "      <td>893416001</td>\n",
       "      <td>0</td>\n",
       "    </tr>\n",
       "    <tr>\n",
       "      <th>3</th>\n",
       "      <td>0003e867a930d0d6842f923d6ba7c9b77aba33fe2a0fbf...</td>\n",
       "      <td>558512024</td>\n",
       "      <td>0</td>\n",
       "    </tr>\n",
       "    <tr>\n",
       "      <th>4</th>\n",
       "      <td>0003e867a930d0d6842f923d6ba7c9b77aba33fe2a0fbf...</td>\n",
       "      <td>621931001</td>\n",
       "      <td>0</td>\n",
       "    </tr>\n",
       "  </tbody>\n",
       "</table>\n",
       "</div>"
      ],
      "text/plain": [
       "                                         customer_id article_id  target\n",
       "0  0003e867a930d0d6842f923d6ba7c9b77aba33fe2a0fbf...  827487003       1\n",
       "1  0003e867a930d0d6842f923d6ba7c9b77aba33fe2a0fbf...  612778003       0\n",
       "2  0003e867a930d0d6842f923d6ba7c9b77aba33fe2a0fbf...  893416001       0\n",
       "3  0003e867a930d0d6842f923d6ba7c9b77aba33fe2a0fbf...  558512024       0\n",
       "4  0003e867a930d0d6842f923d6ba7c9b77aba33fe2a0fbf...  621931001       0"
      ]
     },
     "execution_count": 77,
     "metadata": {},
     "output_type": "execute_result"
    }
   ],
   "source": [
    "test_subset = test[test['customer_id']==test['customer_id'].iloc[1]]\n",
    "test_subset.head()"
   ]
  },
  {
   "cell_type": "code",
   "execution_count": 78,
   "metadata": {},
   "outputs": [],
   "source": [
    "test_subset_customer_features = np.array([customer_features_with_id[customer_id] for customer_id in \\\n",
    "                                   test_subset['customer_id'].values])\n",
    "test_subset_article_features = np.array([articles_features_with_id[article_id] for article_id in \\\n",
    "                                  test_subset['article_id'].values])"
   ]
  },
  {
   "cell_type": "code",
   "execution_count": 79,
   "metadata": {},
   "outputs": [
    {
     "name": "stdout",
     "output_type": "stream",
     "text": [
      "2/2 [==============================] - 0s 6ms/step\n"
     ]
    },
    {
     "data": {
      "text/plain": [
       "array([[0.44963843],\n",
       "       [0.27084514],\n",
       "       [0.11623856],\n",
       "       [0.09933101],\n",
       "       [0.20071873]], dtype=float32)"
      ]
     },
     "execution_count": 79,
     "metadata": {},
     "output_type": "execute_result"
    }
   ],
   "source": [
    "y_p = model.predict([test_subset_customer_features, test_subset_article_features])\n",
    "y_p[:5]"
   ]
  },
  {
   "cell_type": "code",
   "execution_count": 80,
   "metadata": {},
   "outputs": [
    {
     "data": {
      "text/plain": [
       "(array([0, 0, 0, 0, 0, 1, 0, 0, 0, 0, 0, 0, 0, 0, 0, 0, 0, 0, 0, 0, 0, 0,\n",
       "        0, 0, 0, 0, 0, 0, 0, 0, 0, 0, 0, 0, 0, 0, 0, 0, 0, 0, 0, 0, 0, 0,\n",
       "        0, 0, 0, 0, 0, 0, 0], dtype=int64),\n",
       " array([18, 12, 33, 40, 31,  0, 29, 13, 34, 41, 26, 36, 16, 30, 45, 42,  9,\n",
       "        17, 46,  1, 21, 44, 25, 15, 32,  4, 14, 28, 20, 48,  6,  7, 49,  2,\n",
       "         3, 24, 47, 22, 19, 23, 39,  5, 50, 38, 10, 37, 43,  8, 35, 11, 27]))"
      ]
     },
     "execution_count": 80,
     "metadata": {},
     "output_type": "execute_result"
    }
   ],
   "source": [
    "sorted_index = np.argsort(-y_p,axis=0).reshape(-1).tolist()  \n",
    "sorted_y = test_subset['target'].values[sorted_index]\n",
    "sorted_y, np.array(sorted_index)"
   ]
  },
  {
   "cell_type": "markdown",
   "metadata": {},
   "source": [
    "## Inference"
   ]
  },
  {
   "cell_type": "code",
   "execution_count": 81,
   "metadata": {},
   "outputs": [
    {
     "name": "stdout",
     "output_type": "stream",
     "text": [
      "17478/17478 [==============================] - 45s 3ms/step\n"
     ]
    }
   ],
   "source": [
    "predicted_score = model.predict([test_customer_features, test_article_features])"
   ]
  },
  {
   "cell_type": "code",
   "execution_count": 82,
   "metadata": {},
   "outputs": [
    {
     "name": "stderr",
     "output_type": "stream",
     "text": [
      "C:\\Users\\USER\\AppData\\Local\\Temp\\ipykernel_33448\\1367768386.py:5: FutureWarning: Series.__getitem__ treating keys as positions is deprecated. In a future version, integer keys will always be treated as labels (consistent with DataFrame behavior). To access a value by position, use `ser.iloc[pos]`\n",
      "  apply(lambda x: list(np.array(x[0])[np.argsort(x[1])[::-1]]), axis=1)\n"
     ]
    },
    {
     "data": {
      "text/html": [
       "<div>\n",
       "<style scoped>\n",
       "    .dataframe tbody tr th:only-of-type {\n",
       "        vertical-align: middle;\n",
       "    }\n",
       "\n",
       "    .dataframe tbody tr th {\n",
       "        vertical-align: top;\n",
       "    }\n",
       "\n",
       "    .dataframe thead th {\n",
       "        text-align: right;\n",
       "    }\n",
       "</style>\n",
       "<table border=\"1\" class=\"dataframe\">\n",
       "  <thead>\n",
       "    <tr style=\"text-align: right;\">\n",
       "      <th></th>\n",
       "      <th>customer_id</th>\n",
       "      <th>article_id</th>\n",
       "      <th>target</th>\n",
       "      <th>predicted_score</th>\n",
       "      <th>predicted_article_id</th>\n",
       "    </tr>\n",
       "  </thead>\n",
       "  <tbody>\n",
       "    <tr>\n",
       "      <th>0</th>\n",
       "      <td>0003e867a930d0d6842f923d6ba7c9b77aba33fe2a0fbf...</td>\n",
       "      <td>[827487003, 612778003, 893416001, 558512024, 6...</td>\n",
       "      <td>[1, 0, 0, 0, 0, 0, 0, 0, 0, 0, 0, 0, 0, 0, 0, ...</td>\n",
       "      <td>[0.4496384263038635, 0.2708451449871063, 0.116...</td>\n",
       "      <td>[556539003, 877845002, 733749011, 722674001, 1...</td>\n",
       "    </tr>\n",
       "    <tr>\n",
       "      <th>1</th>\n",
       "      <td>000525e3fe01600d717da8423643a8303390a055c578ed...</td>\n",
       "      <td>[644003001, 784205017, 643372001, 830100002, 8...</td>\n",
       "      <td>[0, 0, 0, 0, 0, 0, 0, 0, 0, 0, 0, 0, 0, 0, 0, ...</td>\n",
       "      <td>[0.014070962555706501, 0.18612094223499298, 0....</td>\n",
       "      <td>[748355001, 894293001, 830100002, 930533003, 9...</td>\n",
       "    </tr>\n",
       "    <tr>\n",
       "      <th>2</th>\n",
       "      <td>0010e8eb18f131e724d6997909af0808adbba057529edb...</td>\n",
       "      <td>[892541001, 806164002, 695323003, 761699001, 7...</td>\n",
       "      <td>[0, 0, 0, 0, 0, 0, 0, 0, 0, 0, 0, 0, 0, 0, 0, ...</td>\n",
       "      <td>[0.44568341970443726, 0.015571312978863716, 0....</td>\n",
       "      <td>[918835003, 610776002, 708379004, 868629002, 3...</td>\n",
       "    </tr>\n",
       "    <tr>\n",
       "      <th>3</th>\n",
       "      <td>001436e2c83cda28548dd668cfc7d621d70d2baf6f6cf0...</td>\n",
       "      <td>[784247001, 814805002, 656886001, 564357001, 6...</td>\n",
       "      <td>[0, 0, 0, 0, 0, 0, 0, 0, 0, 0, 0, 0, 0, 0, 0, ...</td>\n",
       "      <td>[0.015121550299227238, 0.07226507365703583, 0....</td>\n",
       "      <td>[776237026, 918292003, 416961021, 539723039, 5...</td>\n",
       "    </tr>\n",
       "    <tr>\n",
       "      <th>4</th>\n",
       "      <td>0026ebdd70715d8fa2befa14dfed317a1ffe5451aba839...</td>\n",
       "      <td>[525581015, 759636002, 765704001, 775838001, 7...</td>\n",
       "      <td>[0, 0, 0, 0, 1, 1, 1, 0, 1, 0, 0, 0, 0, 0, 0, ...</td>\n",
       "      <td>[0.011370589956641197, 0.09485634416341782, 0....</td>\n",
       "      <td>[760084003, 850917001, 759465001, 888951001, 7...</td>\n",
       "    </tr>\n",
       "    <tr>\n",
       "      <th>...</th>\n",
       "      <td>...</td>\n",
       "      <td>...</td>\n",
       "      <td>...</td>\n",
       "      <td>...</td>\n",
       "      <td>...</td>\n",
       "    </tr>\n",
       "    <tr>\n",
       "      <th>10523</th>\n",
       "      <td>ffd4cf2217de4a0a3f9f610cdec334c803692a18af08ac...</td>\n",
       "      <td>[565820001, 885547001, 687347002, 602675001, 5...</td>\n",
       "      <td>[0, 0, 0, 0, 0, 0, 0, 0, 0, 0, 0, 0, 0, 0, 0, ...</td>\n",
       "      <td>[0.12301597744226456, 0.31975775957107544, 0.1...</td>\n",
       "      <td>[873279004, 896169005, 832505003, 456163087, 8...</td>\n",
       "    </tr>\n",
       "    <tr>\n",
       "      <th>10524</th>\n",
       "      <td>fff2282977442e327b45d8c89afde25617d00124d0f999...</td>\n",
       "      <td>[650979001, 475997001, 671519011, 774552002, 7...</td>\n",
       "      <td>[0, 0, 0, 0, 0, 0, 0, 0, 0, 0, 0, 0, 0, 0, 0, ...</td>\n",
       "      <td>[0.06213705241680145, 0.06532010436058044, 0.0...</td>\n",
       "      <td>[891322004, 632494003, 674606079, 797058009, 9...</td>\n",
       "    </tr>\n",
       "    <tr>\n",
       "      <th>10525</th>\n",
       "      <td>fff380805474b287b05cb2a7507b9a013482f7dd0bce0e...</td>\n",
       "      <td>[581825001, 694659003, 862821001, 681110005, 6...</td>\n",
       "      <td>[0, 0, 0, 0, 0, 0, 0, 0, 0, 0, 0, 0, 0, 0, 0, ...</td>\n",
       "      <td>[0.17947229743003845, 0.005398526322096586, 0....</td>\n",
       "      <td>[862821001, 790008001, 894956001, 784972002, 6...</td>\n",
       "    </tr>\n",
       "    <tr>\n",
       "      <th>10526</th>\n",
       "      <td>fff4d3a8b1f3b60af93e78c30a7cb4cf75edaf2590d3e5...</td>\n",
       "      <td>[707137002, 566534017, 740824006, 711024002, 7...</td>\n",
       "      <td>[0, 0, 0, 0, 0, 0, 0, 0, 0, 0, 0, 0, 0, 0, 0, ...</td>\n",
       "      <td>[0.019514000043272972, 0.012067418545484543, 0...</td>\n",
       "      <td>[744304002, 855686001, 614848001, 853006002, 7...</td>\n",
       "    </tr>\n",
       "    <tr>\n",
       "      <th>10527</th>\n",
       "      <td>fffef3b6b73545df065b521e19f64bf6fe93bfd450ab20...</td>\n",
       "      <td>[865792009, 555550004, 700104002, 635117001, 5...</td>\n",
       "      <td>[0, 0, 0, 0, 0, 0, 0, 0, 0, 0, 0, 0, 0, 0, 0, ...</td>\n",
       "      <td>[0.04750245437026024, 0.27853110432624817, 0.3...</td>\n",
       "      <td>[722468001, 832253001, 925404001, 808628002, 8...</td>\n",
       "    </tr>\n",
       "  </tbody>\n",
       "</table>\n",
       "<p>10528 rows × 5 columns</p>\n",
       "</div>"
      ],
      "text/plain": [
       "                                             customer_id  \\\n",
       "0      0003e867a930d0d6842f923d6ba7c9b77aba33fe2a0fbf...   \n",
       "1      000525e3fe01600d717da8423643a8303390a055c578ed...   \n",
       "2      0010e8eb18f131e724d6997909af0808adbba057529edb...   \n",
       "3      001436e2c83cda28548dd668cfc7d621d70d2baf6f6cf0...   \n",
       "4      0026ebdd70715d8fa2befa14dfed317a1ffe5451aba839...   \n",
       "...                                                  ...   \n",
       "10523  ffd4cf2217de4a0a3f9f610cdec334c803692a18af08ac...   \n",
       "10524  fff2282977442e327b45d8c89afde25617d00124d0f999...   \n",
       "10525  fff380805474b287b05cb2a7507b9a013482f7dd0bce0e...   \n",
       "10526  fff4d3a8b1f3b60af93e78c30a7cb4cf75edaf2590d3e5...   \n",
       "10527  fffef3b6b73545df065b521e19f64bf6fe93bfd450ab20...   \n",
       "\n",
       "                                              article_id  \\\n",
       "0      [827487003, 612778003, 893416001, 558512024, 6...   \n",
       "1      [644003001, 784205017, 643372001, 830100002, 8...   \n",
       "2      [892541001, 806164002, 695323003, 761699001, 7...   \n",
       "3      [784247001, 814805002, 656886001, 564357001, 6...   \n",
       "4      [525581015, 759636002, 765704001, 775838001, 7...   \n",
       "...                                                  ...   \n",
       "10523  [565820001, 885547001, 687347002, 602675001, 5...   \n",
       "10524  [650979001, 475997001, 671519011, 774552002, 7...   \n",
       "10525  [581825001, 694659003, 862821001, 681110005, 6...   \n",
       "10526  [707137002, 566534017, 740824006, 711024002, 7...   \n",
       "10527  [865792009, 555550004, 700104002, 635117001, 5...   \n",
       "\n",
       "                                                  target  \\\n",
       "0      [1, 0, 0, 0, 0, 0, 0, 0, 0, 0, 0, 0, 0, 0, 0, ...   \n",
       "1      [0, 0, 0, 0, 0, 0, 0, 0, 0, 0, 0, 0, 0, 0, 0, ...   \n",
       "2      [0, 0, 0, 0, 0, 0, 0, 0, 0, 0, 0, 0, 0, 0, 0, ...   \n",
       "3      [0, 0, 0, 0, 0, 0, 0, 0, 0, 0, 0, 0, 0, 0, 0, ...   \n",
       "4      [0, 0, 0, 0, 1, 1, 1, 0, 1, 0, 0, 0, 0, 0, 0, ...   \n",
       "...                                                  ...   \n",
       "10523  [0, 0, 0, 0, 0, 0, 0, 0, 0, 0, 0, 0, 0, 0, 0, ...   \n",
       "10524  [0, 0, 0, 0, 0, 0, 0, 0, 0, 0, 0, 0, 0, 0, 0, ...   \n",
       "10525  [0, 0, 0, 0, 0, 0, 0, 0, 0, 0, 0, 0, 0, 0, 0, ...   \n",
       "10526  [0, 0, 0, 0, 0, 0, 0, 0, 0, 0, 0, 0, 0, 0, 0, ...   \n",
       "10527  [0, 0, 0, 0, 0, 0, 0, 0, 0, 0, 0, 0, 0, 0, 0, ...   \n",
       "\n",
       "                                         predicted_score  \\\n",
       "0      [0.4496384263038635, 0.2708451449871063, 0.116...   \n",
       "1      [0.014070962555706501, 0.18612094223499298, 0....   \n",
       "2      [0.44568341970443726, 0.015571312978863716, 0....   \n",
       "3      [0.015121550299227238, 0.07226507365703583, 0....   \n",
       "4      [0.011370589956641197, 0.09485634416341782, 0....   \n",
       "...                                                  ...   \n",
       "10523  [0.12301597744226456, 0.31975775957107544, 0.1...   \n",
       "10524  [0.06213705241680145, 0.06532010436058044, 0.0...   \n",
       "10525  [0.17947229743003845, 0.005398526322096586, 0....   \n",
       "10526  [0.019514000043272972, 0.012067418545484543, 0...   \n",
       "10527  [0.04750245437026024, 0.27853110432624817, 0.3...   \n",
       "\n",
       "                                    predicted_article_id  \n",
       "0      [556539003, 877845002, 733749011, 722674001, 1...  \n",
       "1      [748355001, 894293001, 830100002, 930533003, 9...  \n",
       "2      [918835003, 610776002, 708379004, 868629002, 3...  \n",
       "3      [776237026, 918292003, 416961021, 539723039, 5...  \n",
       "4      [760084003, 850917001, 759465001, 888951001, 7...  \n",
       "...                                                  ...  \n",
       "10523  [873279004, 896169005, 832505003, 456163087, 8...  \n",
       "10524  [891322004, 632494003, 674606079, 797058009, 9...  \n",
       "10525  [862821001, 790008001, 894956001, 784972002, 6...  \n",
       "10526  [744304002, 855686001, 614848001, 853006002, 7...  \n",
       "10527  [722468001, 832253001, 925404001, 808628002, 8...  \n",
       "\n",
       "[10528 rows x 5 columns]"
      ]
     },
     "execution_count": 82,
     "metadata": {},
     "output_type": "execute_result"
    }
   ],
   "source": [
    "test['predicted_score'] = predicted_score.reshape(-1)\n",
    "test_grouped = test.groupby('customer_id').agg({'article_id':list, 'target':list, 'predicted_score':list})\n",
    "test_grouped = test_grouped[test_grouped['target'].apply(lambda x: len(set(x))>1)]\n",
    "test_grouped['predicted_article_id'] = test_grouped[['article_id', 'predicted_score']].\\\n",
    "                                    apply(lambda x: list(np.array(x[0])[np.argsort(x[1])[::-1]]), axis=1)\n",
    "test_grouped = test_grouped.reset_index()\n",
    "test_grouped"
   ]
  },
  {
   "cell_type": "markdown",
   "metadata": {},
   "source": [
    "## Evaluate results"
   ]
  },
  {
   "cell_type": "code",
   "execution_count": 83,
   "metadata": {},
   "outputs": [],
   "source": [
    "def ap_k(actual, predicted, k):\n",
    "    \"\"\"\n",
    "    Computes the average precision at k.\n",
    "    This function computes the average prescision at k between two lists of\n",
    "    items.\n",
    "    Parameters\n",
    "    ----------\n",
    "    actual : list\n",
    "             A list of elements that are to be predicted (order doesn't matter)\n",
    "    predicted : list\n",
    "                A list of predicted elements (order does matter)\n",
    "    k : int, optional\n",
    "        The maximum number of predicted elements\n",
    "    Returns\n",
    "    -------\n",
    "    score : double\n",
    "            The average precision at k over the input lists\n",
    "    \"\"\"\n",
    "    if len(predicted)>k:\n",
    "        predicted = predicted[:k]\n",
    "\n",
    "    score = 0.0\n",
    "    num_hits = 0.0\n",
    "\n",
    "    for i,p in enumerate(predicted):\n",
    "        if p in actual and p not in predicted[:i]:\n",
    "            num_hits += 1.0\n",
    "            score += num_hits / (i+1.0)\n",
    "\n",
    "    if not actual:\n",
    "        return 0.0\n",
    "\n",
    "    return score / min(len(actual), k)\n",
    "\n",
    "def ndcg_k(y_true, y_pred, k):\n",
    "    dcg = 0\n",
    "    N = len(y_true)\n",
    "    if N == 0:\n",
    "        return 0\n",
    "    for idx, item in enumerate(y_pred[:k], start=1):\n",
    "        dcg += (2 ** (item in y_true) - 1) / np.log2(1 + idx)\n",
    "    idcg = sum(1 / np.log2(1 + i) for i in range(1, N + 1))\n",
    "    return dcg / idcg\n",
    "\n",
    "def measure_rank_metrics(test_set, k):\n",
    "    \n",
    "    group_cols = ['customer_id']\n",
    "    explode_cols = ['article_id', 'target']\n",
    "    data_full = test_set[group_cols + explode_cols +['predicted_article_id']].explode(explode_cols)\n",
    "    data = data_full.sort_values(group_cols, ascending=False)\n",
    "    \n",
    "    data[f'rn'] = data.groupby(group_cols).cumcount()+1\n",
    "    data = data[(data.rn <= k) | (data.target == 1)]\n",
    "\n",
    "    data_group = data.groupby(group_cols)\n",
    "    map_all = round(data_group.apply(\n",
    "                lambda x: ap_k(x.loc[x['target'] == 1, 'article_id'].tolist(), \n",
    "                              x['predicted_article_id'].values[0][:k], k)).values.mean(), 5)\n",
    "\n",
    "    ndcg_all = round(data_group.apply(\n",
    "                lambda x: ndcg_k(x.loc[x['target'] == 1, 'article_id'].tolist(), \n",
    "                               x['predicted_article_id'].values[0][:k], k)).values.mean(), 5)\n",
    "    \n",
    "    return map_all, ndcg_all\n",
    "\n",
    "def measure_metrics(test_set, k=10):\n",
    "    metrics = {}\n",
    "    map_all, ndcg_all = measure_rank_metrics(test_set, k)\n",
    "    metrics['map_all'] = map_all\n",
    "    metrics['ndcg_all'] = ndcg_all\n",
    "    \n",
    "    return metrics"
   ]
  },
  {
   "cell_type": "code",
   "execution_count": 84,
   "metadata": {},
   "outputs": [
    {
     "data": {
      "text/plain": [
       "{'map_all': 0.35737, 'ndcg_all': 0.51378}"
      ]
     },
     "execution_count": 84,
     "metadata": {},
     "output_type": "execute_result"
    }
   ],
   "source": [
    "measure_metrics(test_grouped, 12)"
   ]
  },
  {
   "cell_type": "code",
   "execution_count": 85,
   "metadata": {},
   "outputs": [
    {
     "data": {
      "text/plain": [
       "{'map_all': 0.3764, 'ndcg_all': 0.56085}"
      ]
     },
     "execution_count": 85,
     "metadata": {},
     "output_type": "execute_result"
    }
   ],
   "source": [
    "measure_metrics(test_grouped, 20)"
   ]
  },
  {
   "cell_type": "code",
   "execution_count": 86,
   "metadata": {},
   "outputs": [
    {
     "data": {
      "text/plain": [
       "{'map_all': 0.38484, 'ndcg_all': 0.58501}"
      ]
     },
     "execution_count": 86,
     "metadata": {},
     "output_type": "execute_result"
    }
   ],
   "source": [
    "measure_metrics(test_grouped, 30)"
   ]
  },
  {
   "cell_type": "code",
   "execution_count": 87,
   "metadata": {},
   "outputs": [
    {
     "data": {
      "text/plain": [
       "669"
      ]
     },
     "execution_count": 87,
     "metadata": {},
     "output_type": "execute_result"
    }
   ],
   "source": [
    "del test_customer_features\n",
    "del test_article_features\n",
    "del test_target\n",
    "import gc\n",
    "gc.collect()"
   ]
  },
  {
   "cell_type": "markdown",
   "metadata": {},
   "source": [
    "## Create placeholder for new customers (popular goods)"
   ]
  },
  {
   "cell_type": "code",
   "execution_count": 88,
   "metadata": {},
   "outputs": [
    {
     "data": {
      "text/plain": [
       "'2019-09-23'"
      ]
     },
     "execution_count": 88,
     "metadata": {},
     "output_type": "execute_result"
    }
   ],
   "source": [
    "# 마지막 30일 가져옴\n",
    "start_popular_date = datetime.strptime(max_date, '%Y-%M-%d') - timedelta(days=30)\n",
    "start_popular_date = start_popular_date.strftime('%Y-%M-%d')\n",
    "start_popular_date"
   ]
  },
  {
   "cell_type": "code",
   "execution_count": 89,
   "metadata": {},
   "outputs": [
    {
     "data": {
      "text/plain": [
       "'706016001 720125001 706016002 372860001 759871002 610776002 751471001 706016003 464297007 372860002 562245046 448509014'"
      ]
     },
     "execution_count": 89,
     "metadata": {},
     "output_type": "execute_result"
    }
   ],
   "source": [
    "transactions_popular = transactions[transactions['t_dat']>=start_popular_date]\n",
    "popular_goods = transactions_popular['article_id'].value_counts().head(12).index.tolist()\n",
    "popular_goods = ' '.join([str(item) for item in popular_goods])\n",
    "popular_goods"
   ]
  },
  {
   "cell_type": "code",
   "execution_count": null,
   "metadata": {},
   "outputs": [],
   "source": []
  }
 ],
 "metadata": {
  "kernelspec": {
   "display_name": "Python 3 (ipykernel)",
   "language": "python",
   "name": "python3"
  },
  "language_info": {
   "codemirror_mode": {
    "name": "ipython",
    "version": 3
   },
   "file_extension": ".py",
   "mimetype": "text/x-python",
   "name": "python",
   "nbconvert_exporter": "python",
   "pygments_lexer": "ipython3",
   "version": "3.9.18"
  }
 },
 "nbformat": 4,
 "nbformat_minor": 4
}
